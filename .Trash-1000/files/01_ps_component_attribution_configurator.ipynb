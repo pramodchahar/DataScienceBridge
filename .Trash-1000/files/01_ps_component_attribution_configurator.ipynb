{
 "cells": [
  {
   "cell_type": "code",
   "execution_count": 1,
   "metadata": {},
   "outputs": [],
   "source": [
    "# Import Libraries from Pyspark\n",
    "import pyspark\n",
    "import re\n",
    "from pyspark import SparkContext\n",
    "from pyspark.sql.functions import *\n",
    "from pyspark.sql.window import Window\n",
    "from pyspark.sql.types import *\n",
    "from datetime import datetime\n",
    "import os\n",
    "from IPython.display import Image\n",
    "from pyspark.ml.feature import VectorAssembler\n",
    "from pyspark.ml.classification import LogisticRegression\n",
    "from pyspark.ml.evaluation import BinaryClassificationEvaluator\n",
    "from pyspark.ml.classification import RandomForestClassifier\n",
    "from pyspark.sql.functions import sha2\n",
    "from pyspark.sql import SQLContext"
   ]
  },
  {
   "cell_type": "code",
   "execution_count": 2,
   "metadata": {},
   "outputs": [],
   "source": [
    "from pyspark.sql import SparkSession\n",
    "spark=SparkSession.builder.appName('pro_processing_level_1').getOrCreate()"
   ]
  },
  {
   "cell_type": "code",
   "execution_count": 7,
   "metadata": {},
   "outputs": [],
   "source": [
    "#file locations\n",
    "raw_data_uri='/home/jovyan/work/hashed_data.csv'\n",
    "page_mapping_uri='/home/jovyan/work/pagename_category.csv'\n",
    "component_mapping_uri='/home/jovyan/work/component_mapping.csv'"
   ]
  },
  {
   "cell_type": "code",
   "execution_count": 8,
   "metadata": {},
   "outputs": [],
   "source": [
    "#load data into spark and read files\n",
    "df = spark.read.csv(raw_data_uri,sep=',',encoding='ISO-8859-1',header=True) \n",
    "#read the page category mapping file\n",
    "df_pagename_mapping = spark.read.csv(page_mapping_uri, header=True)\n",
    "#read the component mapping file\n",
    "df_compname_mapping = spark.read.csv(component_mapping_uri, header=True)"
   ]
  },
  {
   "cell_type": "code",
   "execution_count": 9,
   "metadata": {},
   "outputs": [],
   "source": [
    "#create dictionary to map component and page category\n",
    "dict_compename_mapping = {row['Component']:row['Component Category'] for row in df_compname_mapping.select('Component','Component Category').collect()}\n",
    "dict_pagename_mapping = {row['PageName']:row['Category'] for row in df_pagename_mapping.select('PageName','Category').collect()}\n"
   ]
  },
  {
   "cell_type": "code",
   "execution_count": 10,
   "metadata": {},
   "outputs": [],
   "source": [
    "#map the pagename category & Component\n",
    "def udf_wrapper(returntype):\n",
    "        def udf_func(func):\n",
    "            return udf(func, returnType=returntype)\n",
    "        return udf_func\n",
    "        \n",
    "@udf_wrapper(StringType())\n",
    "def get_comp_category(comp_type):\n",
    "    '''\n",
    "    based on the page_type return page category\n",
    "    '''\n",
    "    if comp_type is None:\n",
    "        return None\n",
    "    if comp_type == 'null':\n",
    "        return None\n",
    "    if comp_type in dict_compename_mapping.keys():\n",
    "        return dict_compename_mapping[comp_type]\n",
    "    else:\n",
    "        return None\n",
    "    \n",
    "@udf_wrapper(StringType())\n",
    "def get_page_category(page_type):\n",
    "    '''\n",
    "    based on the page_type return page category\n",
    "    '''\n",
    "    if page_type is None:\n",
    "        return None\n",
    "    if page_type == 'null':\n",
    "        return None\n",
    "    if page_type in dict_pagename_mapping.keys():\n",
    "        return dict_pagename_mapping[page_type]\n",
    "    else:\n",
    "        return None"
   ]
  },
  {
   "cell_type": "code",
   "execution_count": 11,
   "metadata": {},
   "outputs": [],
   "source": [
    "#create a new colum with component category and page category\n",
    "df=df.withColumn('comp_category', get_comp_category(col('evar26')))\n",
    "df=df.withColumn('page_category', get_page_category(col('post_pagename')))"
   ]
  },
  {
   "cell_type": "code",
   "execution_count": 12,
   "metadata": {},
   "outputs": [],
   "source": [
    "#remove records which doesnt capture pagename and component\n",
    "df_processed = df.filter(col('hit_source') == '1') \\\n",
    "                    .filter(col('exclude_hit') == '0')\\\n",
    "                    .filter(~((df.page_category.isNull()) & (df.comp_category.isNull())))"
   ]
  },
  {
   "cell_type": "code",
   "execution_count": 13,
   "metadata": {},
   "outputs": [
    {
     "data": {
      "text/plain": [
       "1640198"
      ]
     },
     "execution_count": 13,
     "metadata": {},
     "output_type": "execute_result"
    }
   ],
   "source": [
    "df_processed.count()"
   ]
  },
  {
   "cell_type": "code",
   "execution_count": 14,
   "metadata": {},
   "outputs": [],
   "source": [
    "#Removing outliers\n",
    "df_agg=df_processed.groupBy('hashed_visitor_id').count().orderBy('count',ascending=False)"
   ]
  },
  {
   "cell_type": "code",
   "execution_count": 15,
   "metadata": {},
   "outputs": [],
   "source": [
    "#filter outliers with high or less number of activities \n",
    "df_filter=df_agg.filter(df_agg['count'] < 10000).filter(df_agg['count'] > 2)"
   ]
  },
  {
   "cell_type": "code",
   "execution_count": 16,
   "metadata": {},
   "outputs": [],
   "source": [
    "#combine with original dataframe \n",
    "df_processed = df_processed.join(df_filter, on='hashed_visitor_id', how='inner')"
   ]
  },
  {
   "cell_type": "code",
   "execution_count": 17,
   "metadata": {},
   "outputs": [
    {
     "data": {
      "text/plain": [
       "1007178"
      ]
     },
     "execution_count": 17,
     "metadata": {},
     "output_type": "execute_result"
    }
   ],
   "source": [
    "df_processed.count()"
   ]
  },
  {
   "cell_type": "code",
   "execution_count": 18,
   "metadata": {},
   "outputs": [],
   "source": [
    "# sessionization\n",
    "TIME_OUT = 30 # 30 minutes of timeout\n",
    "\n",
    "\n",
    "@udf_wrapper(IntegerType())\n",
    "def get_event_boundary(time_diff):\n",
    "    '''\n",
    "    based on the timeout value, return the event boundary\n",
    "    '''\n",
    "    if(time_diff is None):\n",
    "        return 0\n",
    "    else:\n",
    "        if(time_diff > TIME_OUT):\n",
    "            return 1\n",
    "        else:\n",
    "            return 0\n",
    "\n",
    "@udf_wrapper(FloatType())\n",
    "def set_default_page_time(time_spent):\n",
    "    '''\n",
    "    based on the time spent,\n",
    "    '''\n",
    "    if(time_spent is None):\n",
    "        return 0.08 # 5 seconds \n",
    "    else:\n",
    "        return time_spent"
   ]
  },
  {
   "cell_type": "code",
   "execution_count": 19,
   "metadata": {},
   "outputs": [],
   "source": [
    "def conversion_test_drive(page_category):\n",
    "        if page_category == 'test_drive':\n",
    "            return 1\n",
    "        else : \n",
    "            return 0\n",
    "    \n",
    "conversion_test_drive_udf = udf(conversion_test_drive, IntegerType())"
   ]
  },
  {
   "cell_type": "code",
   "execution_count": 20,
   "metadata": {},
   "outputs": [],
   "source": [
    "def conversion_cc(page_category):\n",
    "        if page_category == 'your_vehicle':\n",
    "            return 1\n",
    "        else : \n",
    "            return 0\n",
    "    \n",
    "conversion_cc_udf = udf(conversion_cc, IntegerType())"
   ]
  },
  {
   "cell_type": "code",
   "execution_count": 21,
   "metadata": {},
   "outputs": [],
   "source": [
    "# Timestamp Conversion\n",
    "ts_pattern_1 = 'yyyy-MM-dd HH:mm:ss'\n",
    "date_pattern_1 = 'yyyy-MM-dd'"
   ]
  },
  {
   "cell_type": "code",
   "execution_count": 22,
   "metadata": {},
   "outputs": [],
   "source": [
    "df_processed = df_processed\\\n",
    "                     .withColumn('date_time_ts',unix_timestamp(col('date_time'), ts_pattern_1).cast('timestamp'))\\\n",
    "                     .withColumn('conversion_status_td', conversion_test_drive_udf('page_category'))\\\n",
    "                     .withColumn('conversion_status_cc', conversion_cc_udf('page_category'))\n",
    "                     \n",
    "    \n",
    "                         \n",
    "    \n",
    "# Sessionization\n",
    "w0 = Window.partitionBy(col('hashed_visitor_id'))\n",
    "\n",
    "w1 = Window.partitionBy(col('hashed_visitor_id')).orderBy(col('date_time_ts'))\n",
    "\n",
    "w2 = Window.partitionBy(col('hashed_visitor_id'),col('session_id')).orderBy(col('date_time_ts').desc())\n",
    "\n",
    "w3 = Window.partitionBy(col('hashed_visitor_id'),col('session_id')).orderBy(col('date_time_ts'))\n",
    "\n",
    "df_processed  = df_processed \\\n",
    "                   .withColumn('is_converted_td', max(col('conversion_status_td')).over(w0)) \\\n",
    "                   .withColumn('is_converted_cc', max(col('conversion_status_cc')).over(w0)) \\\n",
    "                   .withColumn('prev', lag(col('date_time_ts'),1).over(w1)) \\\n",
    "                   .withColumn('time_diff',((col('date_time_ts').cast('long') - col('prev').cast('long'))/60.0)) \\\n",
    "                   .withColumn('new_event_boundary',get_event_boundary(col('time_diff'))) \\\n",
    "                   .withColumn('session_id', sum(col('new_event_boundary')).over(w1)) \\\n",
    "                   .drop('prev','time_diff','new_event_boundary')\n",
    "\n",
    "                    \n",
    "# hit order\n",
    "df_processed = df_processed.withColumn('hit_rank_reversed', dense_rank().over(w2))\n",
    "\n",
    "\n",
    "\n",
    "#Time Spent                      \n",
    "df_processed = df_processed\\\n",
    "                    .withColumn('next', lead(col('date_time_ts'),1).over(w3)) \\\n",
    "                    .withColumn('time_diff',((col('next').cast('long') - col('date_time_ts').cast('long'))/60.0)) \\\n",
    "                    .withColumn('time_spent_in_mins',set_default_page_time(col('time_diff'))) \n"
   ]
  },
  {
   "cell_type": "code",
   "execution_count": 23,
   "metadata": {},
   "outputs": [
    {
     "data": {
      "text/plain": [
       "1007178"
      ]
     },
     "execution_count": 23,
     "metadata": {},
     "output_type": "execute_result"
    }
   ],
   "source": [
    "df_processed.count()"
   ]
  },
  {
   "cell_type": "code",
   "execution_count": 24,
   "metadata": {},
   "outputs": [],
   "source": [
    "df_final=df_processed.select(['hashed_visitor_id','page_category','comp_category','time_spent_in_mins','session_id','is_converted_td','is_converted_cc',])"
   ]
  },
  {
   "cell_type": "code",
   "execution_count": 26,
   "metadata": {},
   "outputs": [
    {
     "name": "stdout",
     "output_type": "stream",
     "text": [
      "+----------------------------------------------------+\n",
      "|comp_category                                       |\n",
      "+----------------------------------------------------+\n",
      "|Left_Rail_Panel                                     |\n",
      "|NBA_palette_RequestTestDrive                        |\n",
      "|Video_100%                                          |\n",
      "|Configurator                                        |\n",
      "|Sub_Navigation_Configure                            |\n",
      "|Compare_Motors                                      |\n",
      "|Configurator_Package                                |\n",
      "|Vehicle_Thumbnail_                                  |\n",
      "|Global_Navigation-Flyout_Menu                       |\n",
      "|null                                                |\n",
      "|Right_Rail_Action_Panel_DealerSearch                |\n",
      "|Close_Configurator_Interior_Exterior                |\n",
      "|Close_Configurator_Upholstery                       |\n",
      "|Notifications                                       |\n",
      "|Vehicle_Feature_Gallery__Expand                     |\n",
      "|Right_Rail_Action_Panel                             |\n",
      "|Key_Action_Tray_Model_Explore_page                  |\n",
      "|Global_Navigation                                   |\n",
      "|Video_50%                                           |\n",
      "|Video_25%                                           |\n",
      "|Vehicle_Feature_Gallery_tabs                        |\n",
      "|Vehicle_Feature_Gallery                             |\n",
      "|Sub_Navigation                                      |\n",
      "|Close_Configurator_Accessories                      |\n",
      "|Right_Rail_Action_Panel_FB                          |\n",
      "|others                                              |\n",
      "|Content_Gallery_-_Inspiration_Video                 |\n",
      "|Right_Rail_Action_Panel_ConfigureOriginalAccessories|\n",
      "|Footer_RequestTestDrive                             |\n",
      "|Vehicle_Thumbnail_Configurator                      |\n",
      "|Right_Rail_Action_Panel_RequestBrochure             |\n",
      "|Right_Rail_Action_Panel_SearchUsedCars              |\n",
      "|Close_Configurator_Packages                         |\n",
      "|Teaser_Palette_Service_Options                      |\n",
      "|Video_90%                                           |\n",
      "|Right_Rail_Action_Panel_ContactUs                   |\n",
      "|Close_Content_Gallery_-_Inspiration_Video           |\n",
      "|Content_Gallery_-_Inspiration                       |\n",
      "|Content_Gallery_-_Equipment                         |\n",
      "|Others                                              |\n",
      "|Vehicle_Feature_Gallery_-_Intelligent_Drive         |\n",
      "|Finance_Calculator                                  |\n",
      "|Error_Message                                       |\n",
      "|Sub_Navigation_ImageVideoClips                      |\n",
      "|Vehicle_Feature_Gallery_-_Downloads                 |\n",
      "|Right_Rail_Action_Panel_DiscoverOffer               |\n",
      "|Video_75%                                           |\n",
      "|Close_Configurator_Summary_-_CTA                    |\n",
      "|Content_Gallery_-_Inspiration_-_IT                  |\n",
      "|NBA_palette                                         |\n",
      "+----------------------------------------------------+\n",
      "only showing top 50 rows\n",
      "\n"
     ]
    }
   ],
   "source": [
    "df_final.select('comp_category').distinct().show(50,False)"
   ]
  },
  {
   "cell_type": "code",
   "execution_count": 27,
   "metadata": {},
   "outputs": [],
   "source": [
    "df_comp=df_final.filter(col('comp_category') != '')"
   ]
  },
  {
   "cell_type": "code",
   "execution_count": 36,
   "metadata": {},
   "outputs": [],
   "source": [
    "df_comp_category_counts = df_comp.groupby('hashed_visitor_id').pivot('comp_category').agg(count('hashed_visitor_id').cast('float'))\n"
   ]
  },
  {
   "cell_type": "code",
   "execution_count": 37,
   "metadata": {},
   "outputs": [],
   "source": [
    "excluded_comp_category = ['Configurator_Summary','Others','others']"
   ]
  },
  {
   "cell_type": "code",
   "execution_count": 38,
   "metadata": {},
   "outputs": [],
   "source": [
    "filtered_columns = ([column for column in df_comp_category_counts.columns if column not in excluded_comp_category])\n",
    "df_comp_category_counts = df_comp_category_counts.select(filtered_columns)\n",
    "df_comp_category_counts = df_comp_category_counts.fillna(0.0)"
   ]
  },
  {
   "cell_type": "code",
   "execution_count": 39,
   "metadata": {},
   "outputs": [],
   "source": [
    "replacements = {c:'{0}'.format(c) for c in df_comp_category_counts.columns if c != 'hashed_visitor_id'}"
   ]
  },
  {
   "cell_type": "code",
   "execution_count": 40,
   "metadata": {},
   "outputs": [],
   "source": [
    "df_comp_category_counts = df_comp_category_counts.select([col(c).alias(replacements.get(c, c)) for c in df_comp_category_counts.columns])\n"
   ]
  },
  {
   "cell_type": "code",
   "execution_count": 41,
   "metadata": {},
   "outputs": [
    {
     "data": {
      "text/plain": [
       "['hashed_visitor_id',\n",
       " 'Close_Configurator',\n",
       " 'Close_Configurator_Accessories',\n",
       " 'Close_Configurator_Interior_Exterior',\n",
       " 'Close_Configurator_Packages',\n",
       " 'Close_Configurator_Summary_-_CTA',\n",
       " 'Close_Configurator_Upholstery',\n",
       " 'Close_Content_Gallery_-_Inspiration_Video',\n",
       " 'Compare_Motors',\n",
       " 'Configurator',\n",
       " 'Configurator_Package',\n",
       " 'Configurator_Summary_-_CTA',\n",
       " 'Content_Gallery_-_Equipment',\n",
       " 'Content_Gallery_-_Inspiration',\n",
       " 'Content_Gallery_-_Inspiration_-_IT',\n",
       " 'Content_Gallery_-_Inspiration_Video',\n",
       " 'Error_Message',\n",
       " 'Expand_Car_Listing_AMG',\n",
       " 'Finance_Calculator',\n",
       " 'Footer',\n",
       " 'Footer_RequestTestDrive',\n",
       " 'Global_Navigation',\n",
       " 'Global_Navigation-Flyout_Menu',\n",
       " 'Key_Action_Tray_Model_Explore_page',\n",
       " 'Left_Rail_Panel',\n",
       " 'NBA_palette',\n",
       " 'NBA_palette_RequestTestDrive',\n",
       " 'Notifications',\n",
       " 'Right_Rail_Action_Panel',\n",
       " 'Right_Rail_Action_Panel_ConfigureOriginalAccessories',\n",
       " 'Right_Rail_Action_Panel_ContactUs',\n",
       " 'Right_Rail_Action_Panel_DealerSearch',\n",
       " 'Right_Rail_Action_Panel_DiscoverOffer',\n",
       " 'Right_Rail_Action_Panel_FB',\n",
       " 'Right_Rail_Action_Panel_RequestBrochure',\n",
       " 'Right_Rail_Action_Panel_SearchUsedCars',\n",
       " 'Sub_Navigation',\n",
       " 'Sub_Navigation_Configure',\n",
       " 'Sub_Navigation_ImageVideoClips',\n",
       " 'Teaser_Palette_Service_Options',\n",
       " 'Vehicle_Feature_Gallery',\n",
       " 'Vehicle_Feature_Gallery_-_Downloads',\n",
       " 'Vehicle_Feature_Gallery_-_Intelligent_Drive',\n",
       " 'Vehicle_Feature_Gallery__Expand',\n",
       " 'Vehicle_Feature_Gallery_tabs',\n",
       " 'Vehicle_Thumbnail_',\n",
       " 'Vehicle_Thumbnail_Configurator',\n",
       " 'Video_100%',\n",
       " 'Video_25%',\n",
       " 'Video_50%',\n",
       " 'Video_75%',\n",
       " 'Video_90%']"
      ]
     },
     "execution_count": 41,
     "metadata": {},
     "output_type": "execute_result"
    }
   ],
   "source": [
    "df_comp_category_counts.columns"
   ]
  },
  {
   "cell_type": "code",
   "execution_count": 42,
   "metadata": {},
   "outputs": [],
   "source": [
    "aggregations = []\n",
    "aggregations.append(max(col('is_converted_cc')).alias('is_converted_visitor'))"
   ]
  },
  {
   "cell_type": "code",
   "execution_count": 43,
   "metadata": {},
   "outputs": [],
   "source": [
    "df_aggregated_others = df_comp.select('hashed_visitor_id','is_converted_cc').groupBy('hashed_visitor_id').agg(*aggregations)\n"
   ]
  },
  {
   "cell_type": "code",
   "execution_count": 44,
   "metadata": {},
   "outputs": [],
   "source": [
    "df_final =  df_comp_category_counts.join(df_aggregated_others,'hashed_visitor_id', 'inner')"
   ]
  },
  {
   "cell_type": "code",
   "execution_count": 45,
   "metadata": {},
   "outputs": [],
   "source": [
    "model_inputs=[col for col in df_final.columns if col not in ['hashed_visitor_id','is_converted_visitor']]"
   ]
  },
  {
   "cell_type": "code",
   "execution_count": 46,
   "metadata": {},
   "outputs": [],
   "source": [
    "#creating the assemblerfor input variables \n",
    "assembler=VectorAssembler(inputCols=model_inputs,outputCol='features')\n"
   ]
  },
  {
   "cell_type": "code",
   "execution_count": 47,
   "metadata": {},
   "outputs": [],
   "source": [
    "#creating dense vector represntation of input variables\n",
    "output=assembler.transform(df_final)\n",
    "\n"
   ]
  },
  {
   "cell_type": "code",
   "execution_count": 48,
   "metadata": {},
   "outputs": [],
   "source": [
    "#declaring the input dense vector and output variable\n",
    "data=output.select('features','is_converted_visitor')\n"
   ]
  },
  {
   "cell_type": "code",
   "execution_count": 49,
   "metadata": {},
   "outputs": [],
   "source": [
    "#build and train the ML model\n",
    "rfc=RandomForestClassifier(labelCol='is_converted_visitor',featuresCol='features')"
   ]
  },
  {
   "cell_type": "code",
   "execution_count": 50,
   "metadata": {},
   "outputs": [],
   "source": [
    "#fit the model on training data \n",
    "rf_model=rfc.fit(data)"
   ]
  },
  {
   "cell_type": "code",
   "execution_count": 51,
   "metadata": {},
   "outputs": [],
   "source": [
    "#map the comp ids back to components\n",
    "feats={}\n",
    "for feature,importance in zip(model_inputs,rf_model.featureImportances):\n",
    "    feats[feature]=importance"
   ]
  },
  {
   "cell_type": "code",
   "execution_count": 52,
   "metadata": {},
   "outputs": [
    {
     "data": {
      "text/plain": [
       "dict_keys(['Close_Configurator', 'Close_Configurator_Accessories', 'Close_Configurator_Interior_Exterior', 'Close_Configurator_Packages', 'Close_Configurator_Summary_-_CTA', 'Close_Configurator_Upholstery', 'Close_Content_Gallery_-_Inspiration_Video', 'Compare_Motors', 'Configurator', 'Configurator_Package', 'Configurator_Summary_-_CTA', 'Content_Gallery_-_Equipment', 'Content_Gallery_-_Inspiration', 'Content_Gallery_-_Inspiration_-_IT', 'Content_Gallery_-_Inspiration_Video', 'Error_Message', 'Expand_Car_Listing_AMG', 'Finance_Calculator', 'Footer', 'Footer_RequestTestDrive', 'Global_Navigation', 'Global_Navigation-Flyout_Menu', 'Key_Action_Tray_Model_Explore_page', 'Left_Rail_Panel', 'NBA_palette', 'NBA_palette_RequestTestDrive', 'Notifications', 'Right_Rail_Action_Panel', 'Right_Rail_Action_Panel_ConfigureOriginalAccessories', 'Right_Rail_Action_Panel_ContactUs', 'Right_Rail_Action_Panel_DealerSearch', 'Right_Rail_Action_Panel_DiscoverOffer', 'Right_Rail_Action_Panel_FB', 'Right_Rail_Action_Panel_RequestBrochure', 'Right_Rail_Action_Panel_SearchUsedCars', 'Sub_Navigation', 'Sub_Navigation_Configure', 'Sub_Navigation_ImageVideoClips', 'Teaser_Palette_Service_Options', 'Vehicle_Feature_Gallery', 'Vehicle_Feature_Gallery_-_Downloads', 'Vehicle_Feature_Gallery_-_Intelligent_Drive', 'Vehicle_Feature_Gallery__Expand', 'Vehicle_Feature_Gallery_tabs', 'Vehicle_Thumbnail_', 'Vehicle_Thumbnail_Configurator', 'Video_100%', 'Video_25%', 'Video_50%', 'Video_75%', 'Video_90%'])"
      ]
     },
     "execution_count": 52,
     "metadata": {},
     "output_type": "execute_result"
    }
   ],
   "source": [
    "feats.keys()"
   ]
  },
  {
   "cell_type": "code",
   "execution_count": 53,
   "metadata": {},
   "outputs": [
    {
     "data": {
      "text/plain": [
       "dict_values([0.089784994516350261, 0.051577013672406594, 0.00012984245479771931, 0.051893591713808737, 0.010491188255594693, 0.028042334233001072, 0.0041197609997005837, 0.015997359030669487, 0.22230139902807369, 0.0, 0.48499886956611293, 0.00033236793620099907, 0.00046205716362213069, 3.0259220792885212e-05, 0.00071216266839069621, 0.0, 0.00010583161944851024, 0.0, 0.00044472865059256477, 0.00015673650209578231, 0.00878635320557139, 0.00010886997513282176, 0.0, 0.00043843291972471928, 4.5407959170823869e-05, 0.0, 0.012461834781056728, 5.2144742517002955e-05, 2.7946444029010856e-05, 9.7538662127331615e-05, 0.0, 0.0, 0.0, 3.4906457814097404e-05, 0.0041380676651072128, 0.00060120663571228009, 0.0019352155915533815, 8.8502030444424692e-05, 7.5995736545309071e-05, 0.0066513213219370915, 0.0, 8.0969033447990569e-05, 0.0007939230205057324, 0.00060860869363292135, 0.0006736710474370875, 0.00051664746851993451, 1.5919376479893821e-05, 1.1027348503484078e-05, 1.7462261496855768e-05, 0.00013319654877299875, 2.4333841100144996e-05])"
      ]
     },
     "execution_count": 53,
     "metadata": {},
     "output_type": "execute_result"
    }
   ],
   "source": [
    "feats.values()"
   ]
  },
  {
   "cell_type": "code",
   "execution_count": 54,
   "metadata": {},
   "outputs": [],
   "source": [
    "results=sorted(feats.items(),key=lambda x:x[1],reverse=True)"
   ]
  },
  {
   "cell_type": "code",
   "execution_count": 55,
   "metadata": {},
   "outputs": [],
   "source": [
    "final_results_comp=[(key,str(imp)) for key,imp in results]\n",
    "results_df = spark.createDataFrame(final_results_comp, ['key','val'])"
   ]
  },
  {
   "cell_type": "code",
   "execution_count": 56,
   "metadata": {},
   "outputs": [
    {
     "name": "stdout",
     "output_type": "stream",
     "text": [
      "+----------------------------------------------------+-----------------+\n",
      "|key                                                 |val              |\n",
      "+----------------------------------------------------+-----------------+\n",
      "|Configurator_Summary_-_CTA                          |0.484998869566   |\n",
      "|Configurator                                        |0.222301399028   |\n",
      "|Close_Configurator                                  |0.0897849945164  |\n",
      "|Close_Configurator_Packages                         |0.0518935917138  |\n",
      "|Close_Configurator_Accessories                      |0.0515770136724  |\n",
      "|Close_Configurator_Upholstery                       |0.028042334233   |\n",
      "|Compare_Motors                                      |0.0159973590307  |\n",
      "|Notifications                                       |0.0124618347811  |\n",
      "|Close_Configurator_Summary_-_CTA                    |0.0104911882556  |\n",
      "|Global_Navigation                                   |0.00878635320557 |\n",
      "|Vehicle_Feature_Gallery                             |0.00665132132194 |\n",
      "|Right_Rail_Action_Panel_SearchUsedCars              |0.00413806766511 |\n",
      "|Close_Content_Gallery_-_Inspiration_Video           |0.0041197609997  |\n",
      "|Sub_Navigation_Configure                            |0.00193521559155 |\n",
      "|Vehicle_Feature_Gallery__Expand                     |0.000793923020506|\n",
      "|Content_Gallery_-_Inspiration_Video                 |0.000712162668391|\n",
      "|Vehicle_Thumbnail_                                  |0.000673671047437|\n",
      "|Vehicle_Feature_Gallery_tabs                        |0.000608608693633|\n",
      "|Sub_Navigation                                      |0.000601206635712|\n",
      "|Vehicle_Thumbnail_Configurator                      |0.00051664746852 |\n",
      "|Content_Gallery_-_Inspiration                       |0.000462057163622|\n",
      "|Footer                                              |0.000444728650593|\n",
      "|Left_Rail_Panel                                     |0.000438432919725|\n",
      "|Content_Gallery_-_Equipment                         |0.000332367936201|\n",
      "|Footer_RequestTestDrive                             |0.000156736502096|\n",
      "|Video_75%                                           |0.000133196548773|\n",
      "|Close_Configurator_Interior_Exterior                |0.000129842454798|\n",
      "|Global_Navigation-Flyout_Menu                       |0.000108869975133|\n",
      "|Expand_Car_Listing_AMG                              |0.000105831619449|\n",
      "|Right_Rail_Action_Panel_ContactUs                   |9.75386621273e-05|\n",
      "|Sub_Navigation_ImageVideoClips                      |8.85020304444e-05|\n",
      "|Vehicle_Feature_Gallery_-_Intelligent_Drive         |8.0969033448e-05 |\n",
      "|Teaser_Palette_Service_Options                      |7.59957365453e-05|\n",
      "|Right_Rail_Action_Panel                             |5.2144742517e-05 |\n",
      "|NBA_palette                                         |4.54079591708e-05|\n",
      "|Right_Rail_Action_Panel_RequestBrochure             |3.49064578141e-05|\n",
      "|Content_Gallery_-_Inspiration_-_IT                  |3.02592207929e-05|\n",
      "|Right_Rail_Action_Panel_ConfigureOriginalAccessories|2.7946444029e-05 |\n",
      "|Video_90%                                           |2.43338411001e-05|\n",
      "|Video_50%                                           |1.74622614969e-05|\n",
      "|Video_100%                                          |1.59193764799e-05|\n",
      "|Video_25%                                           |1.10273485035e-05|\n",
      "|Configurator_Package                                |0.0              |\n",
      "|Error_Message                                       |0.0              |\n",
      "|Finance_Calculator                                  |0.0              |\n",
      "|Key_Action_Tray_Model_Explore_page                  |0.0              |\n",
      "|NBA_palette_RequestTestDrive                        |0.0              |\n",
      "|Right_Rail_Action_Panel_DealerSearch                |0.0              |\n",
      "|Right_Rail_Action_Panel_DiscoverOffer               |0.0              |\n",
      "|Right_Rail_Action_Panel_FB                          |0.0              |\n",
      "+----------------------------------------------------+-----------------+\n",
      "only showing top 50 rows\n",
      "\n"
     ]
    }
   ],
   "source": [
    "results_df.show(50,False)"
   ]
  },
  {
   "cell_type": "code",
   "execution_count": null,
   "metadata": {},
   "outputs": [],
   "source": []
  }
 ],
 "metadata": {
  "kernelspec": {
   "display_name": "Python 3",
   "language": "python",
   "name": "python3"
  },
  "language_info": {
   "codemirror_mode": {
    "name": "ipython",
    "version": 3
   },
   "file_extension": ".py",
   "mimetype": "text/x-python",
   "name": "python",
   "nbconvert_exporter": "python",
   "pygments_lexer": "ipython3",
   "version": "3.6.3"
  }
 },
 "nbformat": 4,
 "nbformat_minor": 2
}
