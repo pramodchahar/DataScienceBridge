{
 "cells": [
  {
   "cell_type": "code",
   "execution_count": 1,
   "metadata": {},
   "outputs": [
    {
     "data": {
      "text/html": [
       "<style scoped>\n  .ansiout {\n    display: block;\n    unicode-bidi: embed;\n    white-space: pre-wrap;\n    word-wrap: break-word;\n    word-break: break-all;\n    font-family: \"Source Code Pro\", \"Menlo\", monospace;;\n    font-size: 13px;\n    color: #555;\n    margin-left: 4px;\n    line-height: 19px;\n  }\n</style>\n<div class=\"ansiout\"></div>"
      ]
     },
     "metadata": {},
     "output_type": "display_data"
    }
   ],
   "source": [
    "sc._jsc.hadoopConfiguration().set(\n  \"fs.azure.account.key.sankalpstoragesapient.blob.core.windows.net\",\n  \"QTxaNp0ti9TOLjVGIZy3Ftx8xGoq/thTy/WdzDuBzgoCwbqdg5jIqQt6OqnE5DUrF0g01Zr5jrRtEO0WVAYrxg==\")\n \nspark.conf.set(\n  \"fs.azure.account.key.sankalpstoragesapient.blob.core.windows.net\",\n  \"QTxaNp0ti9TOLjVGIZy3Ftx8xGoq/thTy/WdzDuBzgoCwbqdg5jIqQt6OqnE5DUrF0g01Zr5jrRtEO0WVAYrxg==\")\n "
   ]
  },
  {
   "cell_type": "code",
   "execution_count": 2,
   "metadata": {},
   "outputs": [
    {
     "data": {
      "text/html": [
       "<style scoped>\n  .ansiout {\n    display: block;\n    unicode-bidi: embed;\n    white-space: pre-wrap;\n    word-wrap: break-word;\n    word-break: break-all;\n    font-family: \"Source Code Pro\", \"Menlo\", monospace;;\n    font-size: 13px;\n    color: #555;\n    margin-left: 4px;\n    line-height: 19px;\n  }\n</style>\n<div class=\"ansiout\"></div>"
      ]
     },
     "metadata": {},
     "output_type": "display_data"
    }
   ],
   "source": [
    "#import required libraries\nimport numpy as np\nimport matplotlib.pyplot as plt\nimport pyspark\nimport re\nfrom pyspark import SparkContext\nfrom pyspark.sql.functions import *\nfrom pyspark.sql.window import Window\nfrom pyspark.sql.types import *\nfrom datetime import datetime\nimport os\nfrom IPython.display import Image\nfrom pyspark.ml.feature import VectorAssembler\nfrom pyspark.ml.classification import LogisticRegression\nfrom pyspark.ml.evaluation import BinaryClassificationEvaluator\nfrom pyspark.ml.classification import RandomForestClassifier"
   ]
  },
  {
   "cell_type": "code",
   "execution_count": 3,
   "metadata": {},
   "outputs": [
    {
     "data": {
      "text/html": [
       "<style scoped>\n  .ansiout {\n    display: block;\n    unicode-bidi: embed;\n    white-space: pre-wrap;\n    word-wrap: break-word;\n    word-break: break-all;\n    font-family: \"Source Code Pro\", \"Menlo\", monospace;;\n    font-size: 13px;\n    color: #555;\n    margin-left: 4px;\n    line-height: 19px;\n  }\n</style>\n<div class=\"ansiout\"></div>"
      ]
     },
     "metadata": {},
     "output_type": "display_data"
    }
   ],
   "source": [
    "from pyspark.sql import SparkSession\nspark=SparkSession.builder.appName('page_imp_italy').getOrCreate()"
   ]
  },
  {
   "cell_type": "code",
   "execution_count": 4,
   "metadata": {},
   "outputs": [
    {
     "data": {
      "text/html": [
       "<style scoped>\n  .ansiout {\n    display: block;\n    unicode-bidi: embed;\n    white-space: pre-wrap;\n    word-wrap: break-word;\n    word-break: break-all;\n    font-family: \"Source Code Pro\", \"Menlo\", monospace;;\n    font-size: 13px;\n    color: #555;\n    margin-left: 4px;\n    line-height: 19px;\n  }\n</style>\n<div class=\"ansiout\"></div>"
      ]
     },
     "metadata": {},
     "output_type": "display_data"
    }
   ],
   "source": [
    "#load dataset into spark dataframe\ndf = spark.read.csv(\"wasbs://hashed-italy@sankalpstoragesapient.blob.core.windows.net/seven/2018-09-10/*\", header=True,sep='\\t')"
   ]
  },
  {
   "cell_type": "code",
   "execution_count": 5,
   "metadata": {},
   "outputs": [
    {
     "data": {
      "text/html": [
       "<style scoped>\n  .ansiout {\n    display: block;\n    unicode-bidi: embed;\n    white-space: pre-wrap;\n    word-wrap: break-word;\n    word-break: break-all;\n    font-family: \"Source Code Pro\", \"Menlo\", monospace;;\n    font-size: 13px;\n    color: #555;\n    margin-left: 4px;\n    line-height: 19px;\n  }\n</style>\n<div class=\"ansiout\"></div>"
      ]
     },
     "metadata": {},
     "output_type": "display_data"
    }
   ],
   "source": [
    "#load the page mapping file\npage_mapping_uri=spark.read.csv(\"wasbs://hashed-italy@sankalpstoragesapient.blob.core.windows.net/pagename_category.csv\",header=True)"
   ]
  },
  {
   "cell_type": "code",
   "execution_count": 6,
   "metadata": {},
   "outputs": [
    {
     "data": {
      "text/html": [
       "<style scoped>\n  .ansiout {\n    display: block;\n    unicode-bidi: embed;\n    white-space: pre-wrap;\n    word-wrap: break-word;\n    word-break: break-all;\n    font-family: \"Source Code Pro\", \"Menlo\", monospace;;\n    font-size: 13px;\n    color: #555;\n    margin-left: 4px;\n    line-height: 19px;\n  }\n</style>\n<div class=\"ansiout\"></div>"
      ]
     },
     "metadata": {},
     "output_type": "display_data"
    }
   ],
   "source": [
    "#create page mapping dictionary \ndict_pagename_mapping = {row['PageName']:row['Category'] for row in page_mapping_uri.select('PageName','Category').collect()}\n"
   ]
  },
  {
   "cell_type": "code",
   "execution_count": 7,
   "metadata": {},
   "outputs": [
    {
     "data": {
      "text/html": [
       "<style scoped>\n  .ansiout {\n    display: block;\n    unicode-bidi: embed;\n    white-space: pre-wrap;\n    word-wrap: break-word;\n    word-break: break-all;\n    font-family: \"Source Code Pro\", \"Menlo\", monospace;;\n    font-size: 13px;\n    color: #555;\n    margin-left: 4px;\n    line-height: 19px;\n  }\n</style>\n<div class=\"ansiout\"></div>"
      ]
     },
     "metadata": {},
     "output_type": "display_data"
    }
   ],
   "source": [
    "def udf_wrapper(returntype):\n    def udf_func(func):\n        return udf(func, returnType=returntype)\n    return udf_func\n\n  \n@udf_wrapper(StringType())\ndef get_page_category(page_type):\n    '''\n    based on the page_type return page category\n    '''\n    if page_type is None:\n        return None\n    if page_type == 'null':\n        return None\n    if page_type in dict_pagename_mapping.keys():\n        return dict_pagename_mapping[page_type]\n    else:\n        return None"
   ]
  },
  {
   "cell_type": "code",
   "execution_count": 8,
   "metadata": {},
   "outputs": [
    {
     "data": {
      "text/html": [
       "<style scoped>\n  .ansiout {\n    display: block;\n    unicode-bidi: embed;\n    white-space: pre-wrap;\n    word-wrap: break-word;\n    word-break: break-all;\n    font-family: \"Source Code Pro\", \"Menlo\", monospace;;\n    font-size: 13px;\n    color: #555;\n    margin-left: 4px;\n    line-height: 19px;\n  }\n</style>\n<div class=\"ansiout\"></div>"
      ]
     },
     "metadata": {},
     "output_type": "display_data"
    }
   ],
   "source": [
    "#create an additional column to add page category in dataframe\ndf=df.withColumn('page_category', get_page_category(col('post_pagename')))"
   ]
  },
  {
   "cell_type": "code",
   "execution_count": 9,
   "metadata": {},
   "outputs": [
    {
     "data": {
      "text/html": [
       "<style scoped>\n  .ansiout {\n    display: block;\n    unicode-bidi: embed;\n    white-space: pre-wrap;\n    word-wrap: break-word;\n    word-break: break-all;\n    font-family: \"Source Code Pro\", \"Menlo\", monospace;;\n    font-size: 13px;\n    color: #555;\n    margin-left: 4px;\n    line-height: 19px;\n  }\n</style>\n<div class=\"ansiout\"></div>"
      ]
     },
     "metadata": {},
     "output_type": "display_data"
    }
   ],
   "source": [
    "#page category count\npage_category_count=df.groupBy('page_category').count().orderBy('count',ascending=False)"
   ]
  },
  {
   "cell_type": "code",
   "execution_count": 10,
   "metadata": {},
   "outputs": [
    {
     "data": {
      "text/html": [
       "<style scoped>\n  .ansiout {\n    display: block;\n    unicode-bidi: embed;\n    white-space: pre-wrap;\n    word-wrap: break-word;\n    word-break: break-all;\n    font-family: \"Source Code Pro\", \"Menlo\", monospace;;\n    font-size: 13px;\n    color: #555;\n    margin-left: 4px;\n    line-height: 19px;\n  }\n</style>\n<div class=\"ansiout\"></div>"
      ]
     },
     "metadata": {},
     "output_type": "display_data"
    }
   ],
   "source": [
    "#save the category count back to storage \npage_category_count.coalesce(1).write.format(\"csv\").option(\"header\",\"true\").save(\"wasbs://hashed-italy@sankalpstoragesapient.blob.core.windows.net/pagecategory_count.csv\")"
   ]
  },
  {
   "cell_type": "code",
   "execution_count": 11,
   "metadata": {},
   "outputs": [
    {
     "data": {
      "text/html": [
       "<style scoped>\n  .ansiout {\n    display: block;\n    unicode-bidi: embed;\n    white-space: pre-wrap;\n    word-wrap: break-word;\n    word-break: break-all;\n    font-family: \"Source Code Pro\", \"Menlo\", monospace;;\n    font-size: 13px;\n    color: #555;\n    margin-left: 4px;\n    line-height: 19px;\n  }\n</style>\n<div class=\"ansiout\"><span class=\"ansired\">Out[</span><span class=\"ansired\">17</span><span class=\"ansired\">]: </span>579866825\n</div>"
      ]
     },
     "metadata": {},
     "output_type": "display_data"
    }
   ],
   "source": [
    "#number of records in the data \ndf.count()"
   ]
  },
  {
   "cell_type": "code",
   "execution_count": 12,
   "metadata": {},
   "outputs": [
    {
     "data": {
      "text/html": [
       "<style scoped>\n  .ansiout {\n    display: block;\n    unicode-bidi: embed;\n    white-space: pre-wrap;\n    word-wrap: break-word;\n    word-break: break-all;\n    font-family: \"Source Code Pro\", \"Menlo\", monospace;;\n    font-size: 13px;\n    color: #555;\n    margin-left: 4px;\n    line-height: 19px;\n  }\n</style>\n<div class=\"ansiout\"><span class=\"ansired\">Out[</span><span class=\"ansired\">18</span><span class=\"ansired\">]: </span>3387202\n</div>"
      ]
     },
     "metadata": {},
     "output_type": "display_data"
    }
   ],
   "source": [
    "#number of unique visitors\ndf.select('masked_mcvisid').distinct().count()"
   ]
  },
  {
   "cell_type": "code",
   "execution_count": 13,
   "metadata": {},
   "outputs": [
    {
     "data": {
      "text/html": [
       "<style scoped>\n  .ansiout {\n    display: block;\n    unicode-bidi: embed;\n    white-space: pre-wrap;\n    word-wrap: break-word;\n    word-break: break-all;\n    font-family: \"Source Code Pro\", \"Menlo\", monospace;;\n    font-size: 13px;\n    color: #555;\n    margin-left: 4px;\n    line-height: 19px;\n  }\n</style>\n<div class=\"ansiout\"><span class=\"ansired\">Out[</span><span class=\"ansired\">22</span><span class=\"ansired\">]: </span>13056\n</div>"
      ]
     },
     "metadata": {},
     "output_type": "display_data"
    }
   ],
   "source": [
    "#number of actual test drive booking \ndf.filter(col('page_category')=='test_drive').select('masked_mcvisid').distinct().count()"
   ]
  },
  {
   "cell_type": "code",
   "execution_count": 14,
   "metadata": {},
   "outputs": [
    {
     "data": {
      "text/html": [
       "<style scoped>\n  .ansiout {\n    display: block;\n    unicode-bidi: embed;\n    white-space: pre-wrap;\n    word-wrap: break-word;\n    word-break: break-all;\n    font-family: \"Source Code Pro\", \"Menlo\", monospace;;\n    font-size: 13px;\n    color: #555;\n    margin-left: 4px;\n    line-height: 19px;\n  }\n</style>\n<div class=\"ansiout\"><span class=\"ansired\">Out[</span><span class=\"ansired\">23</span><span class=\"ansired\">]: </span>398246\n</div>"
      ]
     },
     "metadata": {},
     "output_type": "display_data"
    }
   ],
   "source": [
    "#number of actual test drive booking \ndf.filter(col('page_category')=='your_vehicle').select('masked_mcvisid').distinct().count()"
   ]
  },
  {
   "cell_type": "code",
   "execution_count": 15,
   "metadata": {},
   "outputs": [
    {
     "data": {
      "text/html": [
       "<style scoped>\n  .ansiout {\n    display: block;\n    unicode-bidi: embed;\n    white-space: pre-wrap;\n    word-wrap: break-word;\n    word-break: break-all;\n    font-family: \"Source Code Pro\", \"Menlo\", monospace;;\n    font-size: 13px;\n    color: #555;\n    margin-left: 4px;\n    line-height: 19px;\n  }\n</style>\n<div class=\"ansiout\"></div>"
      ]
     },
     "metadata": {},
     "output_type": "display_data"
    }
   ],
   "source": [
    "#number of records for each user \ndf_agg=df.groupBy('masked_mcvisid').count().orderBy('count',ascending=False)"
   ]
  },
  {
   "cell_type": "code",
   "execution_count": 16,
   "metadata": {},
   "outputs": [
    {
     "data": {
      "text/html": [
       "<style scoped>\n  .ansiout {\n    display: block;\n    unicode-bidi: embed;\n    white-space: pre-wrap;\n    word-wrap: break-word;\n    word-break: break-all;\n    font-family: \"Source Code Pro\", \"Menlo\", monospace;;\n    font-size: 13px;\n    color: #555;\n    margin-left: 4px;\n    line-height: 19px;\n  }\n</style>\n<div class=\"ansiout\"></div>"
      ]
     },
     "metadata": {},
     "output_type": "display_data"
    }
   ],
   "source": [
    "#filter outliers with high or less number of activities \ndf_filter=df_agg.filter(df_agg['count'] < 10000).filter(df_agg['count'] > 2)"
   ]
  },
  {
   "cell_type": "code",
   "execution_count": 17,
   "metadata": {},
   "outputs": [
    {
     "data": {
      "text/html": [
       "<style scoped>\n  .ansiout {\n    display: block;\n    unicode-bidi: embed;\n    white-space: pre-wrap;\n    word-wrap: break-word;\n    word-break: break-all;\n    font-family: \"Source Code Pro\", \"Menlo\", monospace;;\n    font-size: 13px;\n    color: #555;\n    margin-left: 4px;\n    line-height: 19px;\n  }\n</style>\n<div class=\"ansiout\"><span class=\"ansired\">Out[</span><span class=\"ansired\">26</span><span class=\"ansired\">]: </span>2933930\n</div>"
      ]
     },
     "metadata": {},
     "output_type": "display_data"
    }
   ],
   "source": [
    "#genuine visitor count\ndf_filter.count()"
   ]
  },
  {
   "cell_type": "code",
   "execution_count": 18,
   "metadata": {},
   "outputs": [
    {
     "data": {
      "text/html": [
       "<style scoped>\n  .ansiout {\n    display: block;\n    unicode-bidi: embed;\n    white-space: pre-wrap;\n    word-wrap: break-word;\n    word-break: break-all;\n    font-family: \"Source Code Pro\", \"Menlo\", monospace;;\n    font-size: 13px;\n    color: #555;\n    margin-left: 4px;\n    line-height: 19px;\n  }\n</style>\n<div class=\"ansiout\"></div>"
      ]
     },
     "metadata": {},
     "output_type": "display_data"
    }
   ],
   "source": [
    "#filter genuine visitors only for propensity model\ndf_processed = df.join(df_filter, on='masked_mcvisid', how='inner')"
   ]
  },
  {
   "cell_type": "code",
   "execution_count": 19,
   "metadata": {},
   "outputs": [
    {
     "data": {
      "text/html": [
       "<style scoped>\n  .ansiout {\n    display: block;\n    unicode-bidi: embed;\n    white-space: pre-wrap;\n    word-wrap: break-word;\n    word-break: break-all;\n    font-family: \"Source Code Pro\", \"Menlo\", monospace;;\n    font-size: 13px;\n    color: #555;\n    margin-left: 4px;\n    line-height: 19px;\n  }\n</style>\n<div class=\"ansiout\"></div>"
      ]
     },
     "metadata": {},
     "output_type": "display_data"
    }
   ],
   "source": [
    "#data cleaning \ndf_processed = df_processed.filter(col('hit_source') == '1') \\\n                    .filter(col('exclude_hit') == '0') \\\n                    .filter(col('page_category') != '')"
   ]
  },
  {
   "cell_type": "code",
   "execution_count": 20,
   "metadata": {},
   "outputs": [
    {
     "data": {
      "text/html": [
       "<style scoped>\n  .ansiout {\n    display: block;\n    unicode-bidi: embed;\n    white-space: pre-wrap;\n    word-wrap: break-word;\n    word-break: break-all;\n    font-family: \"Source Code Pro\", \"Menlo\", monospace;;\n    font-size: 13px;\n    color: #555;\n    margin-left: 4px;\n    line-height: 19px;\n  }\n</style>\n<div class=\"ansiout\"></div>"
      ]
     },
     "metadata": {},
     "output_type": "display_data"
    }
   ],
   "source": [
    "# sessionization\nTIME_OUT = 30 # 30 minutes of timeout\n\n\n@udf_wrapper(IntegerType())\ndef get_event_boundary(time_diff):\n    \n    if(time_diff is None):\n      return 0\n    else:\n        if(time_diff > TIME_OUT):\n            return 1\n        else:\n            return 0\n\n@udf_wrapper(FloatType())\ndef set_default_page_time(time_spent):\n    '''\n    based on the time spent, if if\n    '''\n    if(time_spent is None):\n        return 0.08 # 5 seconds \n    else:\n        return time_spent"
   ]
  },
  {
   "cell_type": "code",
   "execution_count": 21,
   "metadata": {},
   "outputs": [
    {
     "data": {
      "text/html": [
       "<style scoped>\n  .ansiout {\n    display: block;\n    unicode-bidi: embed;\n    white-space: pre-wrap;\n    word-wrap: break-word;\n    word-break: break-all;\n    font-family: \"Source Code Pro\", \"Menlo\", monospace;;\n    font-size: 13px;\n    color: #555;\n    margin-left: 4px;\n    line-height: 19px;\n  }\n</style>\n<div class=\"ansiout\"></div>"
      ]
     },
     "metadata": {},
     "output_type": "display_data"
    }
   ],
   "source": [
    "def conversion(page_category):\n        if page_category == 'test_drive':\n            return 1\n        else : \n            return 0\n    \nconversion_udf = udf(conversion, IntegerType())"
   ]
  },
  {
   "cell_type": "code",
   "execution_count": 22,
   "metadata": {},
   "outputs": [
    {
     "data": {
      "text/html": [
       "<style scoped>\n  .ansiout {\n    display: block;\n    unicode-bidi: embed;\n    white-space: pre-wrap;\n    word-wrap: break-word;\n    word-break: break-all;\n    font-family: \"Source Code Pro\", \"Menlo\", monospace;;\n    font-size: 13px;\n    color: #555;\n    margin-left: 4px;\n    line-height: 19px;\n  }\n</style>\n<div class=\"ansiout\"></div>"
      ]
     },
     "metadata": {},
     "output_type": "display_data"
    }
   ],
   "source": [
    "ts_pattern_1 = 'yyyy-MM-dd HH:mm:ss'\ndate_pattern_1 = 'yyyy-MM-dd'\n\ndf_processed = df_processed \\\n                     .withColumn('date_time_ts',unix_timestamp(col('date_time'), ts_pattern_1).cast('timestamp'))\\\n                     .withColumn('conversion_status', conversion_udf('page_category'))"
   ]
  },
  {
   "cell_type": "code",
   "execution_count": 23,
   "metadata": {},
   "outputs": [
    {
     "data": {
      "text/html": [
       "<style scoped>\n  .ansiout {\n    display: block;\n    unicode-bidi: embed;\n    white-space: pre-wrap;\n    word-wrap: break-word;\n    word-break: break-all;\n    font-family: \"Source Code Pro\", \"Menlo\", monospace;;\n    font-size: 13px;\n    color: #555;\n    margin-left: 4px;\n    line-height: 19px;\n  }\n</style>\n<div class=\"ansiout\"></div>"
      ]
     },
     "metadata": {},
     "output_type": "display_data"
    }
   ],
   "source": [
    "    \n# Sessionization\nw0 = Window.partitionBy(col('masked_mcvisid'))\n\nw1 = Window.partitionBy(col('masked_mcvisid')).orderBy(col('date_time_ts'))\n\nw2 = Window.partitionBy(col('masked_mcvisid'),col('session_id')).orderBy(col('date_time_ts').desc())\n\nw3 = Window.partitionBy(col('masked_mcvisid'),col('session_id')).orderBy(col('date_time_ts'))\n\ndf_processed  = df_processed \\\n                   .withColumn('is_converted', max(col('conversion_status')).over(w0)) \\\n                   .withColumn('prev', lag(col('date_time_ts'),1).over(w1)) \\\n                   .withColumn('time_diff',((col('date_time_ts').cast('long') - col('prev').cast('long'))/60.0)) \\\n                   .withColumn('new_event_boundary',get_event_boundary(col('time_diff'))) \\\n                   .withColumn('session_id', sum(col('new_event_boundary')).over(w1)) \\\n                   .drop('prev','time_diff','new_event_boundary')\n\n                    \n# hit order\ndf_processed = df_processed.withColumn('hit_rank_reversed', dense_rank().over(w2))\n\n\n\n#Time Spent                      \ndf_processed = df_processed\\\n                    .withColumn('next', lead(col('date_time_ts'),1).over(w3)) \\\n                    .withColumn('time_diff',((col('next').cast('long') - col('date_time_ts').cast('long'))/60.0)) \\\n                    .withColumn('time_spent_in_mins',set_default_page_time(col('time_diff'))) \\\n                    .drop('next','time_diff')\n"
   ]
  },
  {
   "cell_type": "code",
   "execution_count": 24,
   "metadata": {},
   "outputs": [
    {
     "data": {
      "text/html": [
       "<style scoped>\n  .ansiout {\n    display: block;\n    unicode-bidi: embed;\n    white-space: pre-wrap;\n    word-wrap: break-word;\n    word-break: break-all;\n    font-family: \"Source Code Pro\", \"Menlo\", monospace;;\n    font-size: 13px;\n    color: #555;\n    margin-left: 4px;\n    line-height: 19px;\n  }\n</style>\n<div class=\"ansiout\"></div>"
      ]
     },
     "metadata": {},
     "output_type": "display_data"
    }
   ],
   "source": [
    "df_final=df_processed.select('masked_mcvisid','page_category','time_spent_in_mins','is_converted')"
   ]
  },
  {
   "cell_type": "code",
   "execution_count": 25,
   "metadata": {},
   "outputs": [
    {
     "data": {
      "text/html": [
       "<style scoped>\n  .ansiout {\n    display: block;\n    unicode-bidi: embed;\n    white-space: pre-wrap;\n    word-wrap: break-word;\n    word-break: break-all;\n    font-family: \"Source Code Pro\", \"Menlo\", monospace;;\n    font-size: 13px;\n    color: #555;\n    margin-left: 4px;\n    line-height: 19px;\n  }\n</style>\n<div class=\"ansiout\"></div>"
      ]
     },
     "metadata": {},
     "output_type": "display_data"
    }
   ],
   "source": [
    "#saving dataframe as cacheTable\ndf_final.createOrReplaceTempView('df_hits_view')\nspark.catalog.cacheTable('df_hits_view')\ndf_hits = spark.table(\"df_hits_view\")"
   ]
  },
  {
   "cell_type": "code",
   "execution_count": 26,
   "metadata": {},
   "outputs": [
    {
     "data": {
      "text/html": [
       "<style scoped>\n  .ansiout {\n    display: block;\n    unicode-bidi: embed;\n    white-space: pre-wrap;\n    word-wrap: break-word;\n    word-break: break-all;\n    font-family: \"Source Code Pro\", \"Menlo\", monospace;;\n    font-size: 13px;\n    color: #555;\n    margin-left: 4px;\n    line-height: 19px;\n  }\n</style>\n<div class=\"ansiout\"><span class=\"ansired\">Out[</span><span class=\"ansired\">35</span><span class=\"ansired\">]: </span>2665618\n</div>"
      ]
     },
     "metadata": {},
     "output_type": "display_data"
    }
   ],
   "source": [
    "df_hits.select('masked_mcvisid','is_converted').distinct().count()"
   ]
  },
  {
   "cell_type": "code",
   "execution_count": 27,
   "metadata": {},
   "outputs": [
    {
     "data": {
      "text/html": [
       "<style scoped>\n  .ansiout {\n    display: block;\n    unicode-bidi: embed;\n    white-space: pre-wrap;\n    word-wrap: break-word;\n    word-break: break-all;\n    font-family: \"Source Code Pro\", \"Menlo\", monospace;;\n    font-size: 13px;\n    color: #555;\n    margin-left: 4px;\n    line-height: 19px;\n  }\n</style>\n<div class=\"ansiout\"></div>"
      ]
     },
     "metadata": {},
     "output_type": "display_data"
    }
   ],
   "source": [
    "data_final=df_hits.filter((df_hits['is_converted']=='1') |  (df_hits['is_converted']=='0'))"
   ]
  },
  {
   "cell_type": "code",
   "execution_count": 28,
   "metadata": {},
   "outputs": [
    {
     "data": {
      "text/html": [
       "<style scoped>\n  .ansiout {\n    display: block;\n    unicode-bidi: embed;\n    white-space: pre-wrap;\n    word-wrap: break-word;\n    word-break: break-all;\n    font-family: \"Source Code Pro\", \"Menlo\", monospace;;\n    font-size: 13px;\n    color: #555;\n    margin-left: 4px;\n    line-height: 19px;\n  }\n</style>\n<div class=\"ansiout\"></div>"
      ]
     },
     "metadata": {},
     "output_type": "display_data"
    }
   ],
   "source": [
    "#Ensuring no null values for pagename\ndata_final=data_final.filter(data_final['page_category'] !='null')"
   ]
  },
  {
   "cell_type": "code",
   "execution_count": 29,
   "metadata": {},
   "outputs": [
    {
     "data": {
      "text/html": [
       "<style scoped>\n  .ansiout {\n    display: block;\n    unicode-bidi: embed;\n    white-space: pre-wrap;\n    word-wrap: break-word;\n    word-break: break-all;\n    font-family: \"Source Code Pro\", \"Menlo\", monospace;;\n    font-size: 13px;\n    color: #555;\n    margin-left: 4px;\n    line-height: 19px;\n  }\n</style>\n<div class=\"ansiout\"></div>"
      ]
     },
     "metadata": {},
     "output_type": "display_data"
    }
   ],
   "source": [
    "#unique visitors and conversion status dataframe to be used later\npos_users=data_final.select(['masked_mcvisid','is_converted']).distinct()"
   ]
  },
  {
   "cell_type": "code",
   "execution_count": 30,
   "metadata": {},
   "outputs": [
    {
     "data": {
      "text/html": [
       "<style scoped>\n  .ansiout {\n    display: block;\n    unicode-bidi: embed;\n    white-space: pre-wrap;\n    word-wrap: break-word;\n    word-break: break-all;\n    font-family: \"Source Code Pro\", \"Menlo\", monospace;;\n    font-size: 13px;\n    color: #555;\n    margin-left: 4px;\n    line-height: 19px;\n  }\n</style>\n<div class=\"ansiout\"></div>"
      ]
     },
     "metadata": {},
     "output_type": "display_data"
    }
   ],
   "source": [
    "#creating list of unique pages \npage_list=data_final.select('page_category').distinct().collect()\n\n#creating an list of equal size of distinct pages to map and replace with pagenames in dataset\npage_id=list(range(1,(len(page_list)+1)))\n\n#converting the page id list into strings to be used as columns later\npage_id_str=list(map(str, page_id))\n\n\n#creating the dictionary with page id mapped to pagename\npage_dict = {x[0]: y for x,y in zip(page_list, page_id_str)}"
   ]
  },
  {
   "cell_type": "code",
   "execution_count": 31,
   "metadata": {},
   "outputs": [
    {
     "data": {
      "text/html": [
       "<style scoped>\n  .ansiout {\n    display: block;\n    unicode-bidi: embed;\n    white-space: pre-wrap;\n    word-wrap: break-word;\n    word-break: break-all;\n    font-family: \"Source Code Pro\", \"Menlo\", monospace;;\n    font-size: 13px;\n    color: #555;\n    margin-left: 4px;\n    line-height: 19px;\n  }\n</style>\n<div class=\"ansiout\"></div>"
      ]
     },
     "metadata": {},
     "output_type": "display_data"
    }
   ],
   "source": [
    "#creating a udf to map the url pages to url ids\ndef page_map(page):\n    return page_dict[page]\n\n#implementing the udf and adding a new column (url status) to the datset\npage_udf = udf(page_map, StringType())\nfinaldata= data_final.withColumn('page_status',page_udf(col('page_category')))\n\naggregations = []\naggregations.append(count(col('page_status')).alias('page_count'))\n\n#creating a new dataset with aggregated values to be used in machine learning model\ndf_test=finaldata \\\n        .groupBy(['masked_mcvisid','page_status']) \\\n        .agg(*aggregations)"
   ]
  },
  {
   "cell_type": "code",
   "execution_count": 32,
   "metadata": {},
   "outputs": [
    {
     "data": {
      "text/html": [
       "<style scoped>\n  .ansiout {\n    display: block;\n    unicode-bidi: embed;\n    white-space: pre-wrap;\n    word-wrap: break-word;\n    word-break: break-all;\n    font-family: \"Source Code Pro\", \"Menlo\", monospace;;\n    font-size: 13px;\n    color: #555;\n    margin-left: 4px;\n    line-height: 19px;\n  }\n</style>\n<div class=\"ansiout\"></div>"
      ]
     },
     "metadata": {},
     "output_type": "display_data"
    }
   ],
   "source": [
    "#creating a processed dataset with each url id as a new column for each unique visitor id\ndata_reshaped=df_test.groupBy('masked_mcvisid').pivot('page_status').sum('page_count').fillna(0)"
   ]
  },
  {
   "cell_type": "code",
   "execution_count": 33,
   "metadata": {},
   "outputs": [
    {
     "data": {
      "text/html": [
       "<style scoped>\n  .ansiout {\n    display: block;\n    unicode-bidi: embed;\n    white-space: pre-wrap;\n    word-wrap: break-word;\n    word-break: break-all;\n    font-family: \"Source Code Pro\", \"Menlo\", monospace;;\n    font-size: 13px;\n    color: #555;\n    margin-left: 4px;\n    line-height: 19px;\n  }\n</style>\n<div class=\"ansiout\">+--------------------+---+---+---+---+---+---+---+---+---+---+---+---+---+---+---+---+---+---+---+---+---+---+---+---+---+---+---+---+---+---+---+---+---+\n      masked_mcvisid|  1| 10| 11| 12| 13| 14| 15| 16| 17| 18| 19|  2| 20| 21| 22| 23| 24| 25| 26| 27| 28| 29|  3| 30| 31| 32| 33|  4|  5|  6|  7|  8|  9|\n+--------------------+---+---+---+---+---+---+---+---+---+---+---+---+---+---+---+---+---+---+---+---+---+---+---+---+---+---+---+---+---+---+---+---+---+\n00c2a3affcdef3c4b...|  0|  1|  0|  1|  0|  0|  7|  0|  0|  0|  0|  0|  0|  2|  1|  3|  0|  0|  0|  3|  2|  0|  0|  0|  0|  0|  0|  1|  1|  0|  0|  0|  0|\n0245e0e625e057a6b...|  0|  0|  0|  0|  0|  0|  0|  0|  0|  0|  0|  0|  0|  0|  0|  0|  0|  0|  0|  0|  0|  0|  0|  0|  0|  0|  1|  0|  0|  0|  0|  0|  0|\n0540b269e6c5f7b07...|  0|  0|  0|  0|  0|  0|  1|  0|  0|  0|  0|  0|  0|  0|  0|  2|  0|  0|  0|  1|  0|  0|  0|  0|  0|  0|  0|  0|  0|  0|  0|  0|  0|\n0b308f5d521bd4e9f...|  0|  0|  0|  0|  0|  0|  0|  0|  0|  0|  0|  0|  1|  0|  0| 28|  0|  0|  0|  5|  0|  2|  0|  0|  0|  0|  0|  0|  0|  0|  1|  9|  0|\n0b32085d8746d0538...|  0|  0|  0|  0|  0|  0|  2|  0|  0|  0|  0|  0|  0|  0|  0|  1|  0|  0|  0|  0|  0|  0|  0|  0|  0|  0|  0|  0|  0|  0|  0|  0|  0|\n+--------------------+---+---+---+---+---+---+---+---+---+---+---+---+---+---+---+---+---+---+---+---+---+---+---+---+---+---+---+---+---+---+---+---+---+\nonly showing top 5 rows\n\n</div>"
      ]
     },
     "metadata": {},
     "output_type": "display_data"
    }
   ],
   "source": [
    "data_reshaped.show(5)"
   ]
  },
  {
   "cell_type": "code",
   "execution_count": 34,
   "metadata": {},
   "outputs": [
    {
     "data": {
      "text/html": [
       "<style scoped>\n  .ansiout {\n    display: block;\n    unicode-bidi: embed;\n    white-space: pre-wrap;\n    word-wrap: break-word;\n    word-break: break-all;\n    font-family: \"Source Code Pro\", \"Menlo\", monospace;;\n    font-size: 13px;\n    color: #555;\n    margin-left: 4px;\n    line-height: 19px;\n  }\n</style>\n<div class=\"ansiout\"></div>"
      ]
     },
     "metadata": {},
     "output_type": "display_data"
    }
   ],
   "source": [
    "final_model_data = data_reshaped.join(pos_users, on='masked_mcvisid', how='inner')"
   ]
  },
  {
   "cell_type": "code",
   "execution_count": 35,
   "metadata": {},
   "outputs": [
    {
     "data": {
      "text/html": [
       "<style scoped>\n  .ansiout {\n    display: block;\n    unicode-bidi: embed;\n    white-space: pre-wrap;\n    word-wrap: break-word;\n    word-break: break-all;\n    font-family: \"Source Code Pro\", \"Menlo\", monospace;;\n    font-size: 13px;\n    color: #555;\n    margin-left: 4px;\n    line-height: 19px;\n  }\n</style>\n<div class=\"ansiout\"><span class=\"ansired\">Out[</span><span class=\"ansired\">43</span><span class=\"ansired\">]: </span>\n{&apos;passengercars&apos;: &apos;15&apos;,\n &apos;your_vehicle&apos;: &apos;20&apos;,\n &apos;print_layer&apos;: &apos;11&apos;,\n &apos;eco&apos;: &apos;18&apos;,\n &apos;interior&apos;: &apos;22&apos;,\n &apos;errors&apos;: &apos;25&apos;,\n &apos;chat&apos;: &apos;13&apos;,\n &apos;not_set&apos;: &apos;16&apos;,\n &apos;owner&apos;: &apos;33&apos;,\n &apos;feasibility_abort&apos;: &apos;29&apos;,\n &apos;connectivity&apos;: &apos;10&apos;,\n &apos;finance&apos;: &apos;4&apos;,\n &apos;business_cars&apos;: &apos;9&apos;,\n &apos;fleet_and_business&apos;: &apos;17&apos;,\n &apos;item_info&apos;: &apos;7&apos;,\n &apos;test_drive&apos;: &apos;6&apos;,\n &apos;others&apos;: &apos;14&apos;,\n &apos;configurator&apos;: &apos;23&apos;,\n &apos;moterization&apos;: &apos;27&apos;,\n &apos;safety&apos;: &apos;5&apos;,\n &apos;dealer_locator&apos;: &apos;19&apos;,\n &apos;home&apos;: &apos;28&apos;,\n &apos;design&apos;: &apos;30&apos;,\n &apos;user_cars&apos;: &apos;21&apos;,\n &apos;feasibility_conflict&apos;: &apos;8&apos;,\n &apos;vehicle_search&apos;: &apos;24&apos;,\n &apos;overview&apos;: &apos;1&apos;,\n &apos;contact-us&apos;: &apos;3&apos;,\n &apos;connect_store&apos;: &apos;2&apos;,\n &apos;exterior&apos;: &apos;12&apos;,\n &apos;online_code&apos;: &apos;26&apos;,\n &apos;offers&apos;: &apos;32&apos;,\n &apos;models&apos;: &apos;31&apos;}\n</div>"
      ]
     },
     "metadata": {},
     "output_type": "display_data"
    }
   ],
   "source": [
    "page_dict "
   ]
  },
  {
   "cell_type": "code",
   "execution_count": 36,
   "metadata": {},
   "outputs": [
    {
     "data": {
      "text/html": [
       "<style scoped>\n  .ansiout {\n    display: block;\n    unicode-bidi: embed;\n    white-space: pre-wrap;\n    word-wrap: break-word;\n    word-break: break-all;\n    font-family: \"Source Code Pro\", \"Menlo\", monospace;;\n    font-size: 13px;\n    color: #555;\n    margin-left: 4px;\n    line-height: 19px;\n  }\n</style>\n<div class=\"ansiout\"></div>"
      ]
     },
     "metadata": {},
     "output_type": "display_data"
    }
   ],
   "source": [
    "test_drive_dict_value=page_dict['test_drive']"
   ]
  },
  {
   "cell_type": "code",
   "execution_count": 37,
   "metadata": {},
   "outputs": [
    {
     "data": {
      "text/html": [
       "<style scoped>\n  .ansiout {\n    display: block;\n    unicode-bidi: embed;\n    white-space: pre-wrap;\n    word-wrap: break-word;\n    word-break: break-all;\n    font-family: \"Source Code Pro\", \"Menlo\", monospace;;\n    font-size: 13px;\n    color: #555;\n    margin-left: 4px;\n    line-height: 19px;\n  }\n</style>\n<div class=\"ansiout\"></div>"
      ]
     },
     "metadata": {},
     "output_type": "display_data"
    }
   ],
   "source": [
    "excluded_columns=['masked_mcvisid','is_converted',test_drive_dict_value]"
   ]
  },
  {
   "cell_type": "code",
   "execution_count": 38,
   "metadata": {},
   "outputs": [
    {
     "data": {
      "text/html": [
       "<style scoped>\n  .ansiout {\n    display: block;\n    unicode-bidi: embed;\n    white-space: pre-wrap;\n    word-wrap: break-word;\n    word-break: break-all;\n    font-family: \"Source Code Pro\", \"Menlo\", monospace;;\n    font-size: 13px;\n    color: #555;\n    margin-left: 4px;\n    line-height: 19px;\n  }\n</style>\n<div class=\"ansiout\"></div>"
      ]
     },
     "metadata": {},
     "output_type": "display_data"
    }
   ],
   "source": [
    "model_inputs=[col for col in final_model_data.columns if col not in excluded_columns]"
   ]
  },
  {
   "cell_type": "code",
   "execution_count": 39,
   "metadata": {},
   "outputs": [
    {
     "data": {
      "text/html": [
       "<style scoped>\n  .ansiout {\n    display: block;\n    unicode-bidi: embed;\n    white-space: pre-wrap;\n    word-wrap: break-word;\n    word-break: break-all;\n    font-family: \"Source Code Pro\", \"Menlo\", monospace;;\n    font-size: 13px;\n    color: #555;\n    margin-left: 4px;\n    line-height: 19px;\n  }\n</style>\n<div class=\"ansiout\"></div>"
      ]
     },
     "metadata": {},
     "output_type": "display_data"
    }
   ],
   "source": [
    "#Machine Learning Model\n\ndef page_imp_model(model_inputs,data):\n    \n    \n    #creating the assemblerfor input variables \n    assembler=VectorAssembler(inputCols=model_inputs,outputCol='features')\n\n\n    #creating dense vector represntation of input variables\n    output=assembler.transform(final_model_data)\n\n    #declaring the input dense vector and output variable\n    data=output.select('features','is_converted')\n\n    #build and train the ML model\n    rfc=RandomForestClassifier(labelCol='is_converted',featuresCol='features')\n\n\n    #fit the model on training data \n    rf_model=rfc.fit(data)\n    \n    #map the page ids back to pagenames\n    feats={}\n    for feature,importance in zip(model_inputs,rf_model.featureImportances):\n        feats[feature]=importance\n\n\n    results=sorted(feats.items(),key=lambda x:x[1],reverse=True)\n\n    page_dict_rev = {y:x for x,y in page_dict.items()}\n\n    #create dataframe with page and importance\n    final_results_page=[(page_dict_rev[key],str(imp)) for key,imp in results]\n    final_results_page_df=spark.createDataFrame(final_results_page,['page_category','importance'])\n    return final_results_page_df\n\n"
   ]
  },
  {
   "cell_type": "code",
   "execution_count": 40,
   "metadata": {},
   "outputs": [
    {
     "data": {
      "text/html": [
       "<style scoped>\n  .ansiout {\n    display: block;\n    unicode-bidi: embed;\n    white-space: pre-wrap;\n    word-wrap: break-word;\n    word-break: break-all;\n    font-family: \"Source Code Pro\", \"Menlo\", monospace;;\n    font-size: 13px;\n    color: #555;\n    margin-left: 4px;\n    line-height: 19px;\n  }\n</style>\n<div class=\"ansiout\"></div>"
      ]
     },
     "metadata": {},
     "output_type": "display_data"
    }
   ],
   "source": [
    "page_results=page_imp_model(model_inputs,final_model_data)"
   ]
  },
  {
   "cell_type": "code",
   "execution_count": 41,
   "metadata": {},
   "outputs": [
    {
     "data": {
      "text/html": [
       "<style scoped>\n  .ansiout {\n    display: block;\n    unicode-bidi: embed;\n    white-space: pre-wrap;\n    word-wrap: break-word;\n    word-break: break-all;\n    font-family: \"Source Code Pro\", \"Menlo\", monospace;;\n    font-size: 13px;\n    color: #555;\n    margin-left: 4px;\n    line-height: 19px;\n  }\n</style>\n<div class=\"ansiout\">+--------------------+-----------------+\npage_category       |importance       |\n+--------------------+-----------------+\npassengercars       |0.140344277547   |\nothers              |0.134461458003   |\ncontact-us          |0.120489044054   |\nowner               |0.078220592708   |\ndesign              |0.0639875369059  |\nfinance             |0.0622014313542  |\nfleet_and_business  |0.0608427498631  |\noffers              |0.0481786250678  |\ndealer_locator      |0.0468594042156  |\nmoterization        |0.0452552094626  |\nhome                |0.0331879029136  |\nconfigurator        |0.0326866936709  |\neco                 |0.0195279238448  |\nuser_cars           |0.0152679903111  |\nchat                |0.0135336147488  |\nvehicle_search      |0.0133952065773  |\nitem_info           |0.0125540020934  |\nfeasibility_conflict|0.0121365155868  |\nbusiness_cars       |0.00755847375169 |\ninterior            |0.00735244859513 |\nfeasibility_abort   |0.00620223593645 |\nyour_vehicle        |0.00604677805739 |\nexterior            |0.00588333551497 |\nconnectivity        |0.00482261625895 |\nonline_code         |0.00312540319989 |\nsafety              |0.0026391707101  |\nprint_layer         |0.00207427879779 |\nmodels              |0.000621330885209|\nconnect_store       |0.000317604781969|\nnot_set             |0.000226144583265|\noverview            |0.0              |\nerrors              |0.0              |\n+--------------------+-----------------+\n\n</div>"
      ]
     },
     "metadata": {},
     "output_type": "display_data"
    }
   ],
   "source": [
    "page_results.show(100,False)"
   ]
  },
  {
   "cell_type": "code",
   "execution_count": 42,
   "metadata": {},
   "outputs": [
    {
     "data": {
      "text/html": [
       "<style scoped>\n  .ansiout {\n    display: block;\n    unicode-bidi: embed;\n    white-space: pre-wrap;\n    word-wrap: break-word;\n    word-break: break-all;\n    font-family: \"Source Code Pro\", \"Menlo\", monospace;;\n    font-size: 13px;\n    color: #555;\n    margin-left: 4px;\n    line-height: 19px;\n  }\n</style>\n<div class=\"ansiout\"></div>"
      ]
     },
     "metadata": {},
     "output_type": "display_data"
    }
   ],
   "source": [
    "page_counts=data_final.groupBy('page_category').count().orderBy('count',ascending=True)"
   ]
  },
  {
   "cell_type": "code",
   "execution_count": 43,
   "metadata": {},
   "outputs": [
    {
     "data": {
      "text/html": [
       "<style scoped>\n  .ansiout {\n    display: block;\n    unicode-bidi: embed;\n    white-space: pre-wrap;\n    word-wrap: break-word;\n    word-break: break-all;\n    font-family: \"Source Code Pro\", \"Menlo\", monospace;;\n    font-size: 13px;\n    color: #555;\n    margin-left: 4px;\n    line-height: 19px;\n  }\n</style>\n<div class=\"ansiout\"></div>"
      ]
     },
     "metadata": {},
     "output_type": "display_data"
    }
   ],
   "source": [
    "page_time_spent=data_final.groupBy('page_category').agg({\"time_spent_in_mins\": \"sum\"}).alias(\"total_time_spent\")"
   ]
  },
  {
   "cell_type": "code",
   "execution_count": 44,
   "metadata": {},
   "outputs": [
    {
     "data": {
      "text/html": [
       "<style scoped>\n  .ansiout {\n    display: block;\n    unicode-bidi: embed;\n    white-space: pre-wrap;\n    word-wrap: break-word;\n    word-break: break-all;\n    font-family: \"Source Code Pro\", \"Menlo\", monospace;;\n    font-size: 13px;\n    color: #555;\n    margin-left: 4px;\n    line-height: 19px;\n  }\n</style>\n<div class=\"ansiout\"></div>"
      ]
     },
     "metadata": {},
     "output_type": "display_data"
    }
   ],
   "source": [
    "df_merge_1 = page_results.join(page_time_spent, on='page_category', how='inner')"
   ]
  },
  {
   "cell_type": "code",
   "execution_count": 45,
   "metadata": {},
   "outputs": [
    {
     "data": {
      "text/html": [
       "<style scoped>\n  .ansiout {\n    display: block;\n    unicode-bidi: embed;\n    white-space: pre-wrap;\n    word-wrap: break-word;\n    word-break: break-all;\n    font-family: \"Source Code Pro\", \"Menlo\", monospace;;\n    font-size: 13px;\n    color: #555;\n    margin-left: 4px;\n    line-height: 19px;\n  }\n</style>\n<div class=\"ansiout\"></div>"
      ]
     },
     "metadata": {},
     "output_type": "display_data"
    }
   ],
   "source": [
    "df_merge=df_merge_1.join(page_counts ,on='page_category', how='inner')"
   ]
  },
  {
   "cell_type": "code",
   "execution_count": 46,
   "metadata": {},
   "outputs": [
    {
     "data": {
      "text/html": [
       "<style scoped>\n  .ansiout {\n    display: block;\n    unicode-bidi: embed;\n    white-space: pre-wrap;\n    word-wrap: break-word;\n    word-break: break-all;\n    font-family: \"Source Code Pro\", \"Menlo\", monospace;;\n    font-size: 13px;\n    color: #555;\n    margin-left: 4px;\n    line-height: 19px;\n  }\n</style>\n<div class=\"ansiout\">+--------------------+-----------------+-----------------------+--------+\npage_category       |importance       |sum(time_spent_in_mins)|count   |\n+--------------------+-----------------+-----------------------+--------+\noverview            |0.0              |1.776666671037674      |5       |\nconnect_store       |0.000317604781969|45989.233353929594     |47442   |\ncontact-us          |0.120489044054   |60607.336636586115     |64052   |\nfinance             |0.0622014313542  |302732.3098520059      |228616  |\nsafety              |0.0026391707101  |19746.416775638238     |71325   |\nitem_info           |0.0125540020934  |1002520.9413638525     |1507814 |\nfeasibility_conflict|0.0121365155868  |1417049.4776352998     |7910255 |\nbusiness_cars       |0.00755847375169 |51127.10333178379      |63401   |\nconnectivity        |0.00482261625895 |14846.933481987566     |96447   |\nprint_layer         |0.00207427879779 |78259.30329265259      |44555   |\nexterior            |0.00588333551497 |37011.913592431694     |147230  |\nchat                |0.0135336147488  |18260.350013582036     |16466   |\nothers              |0.134461458003   |154387.50322023593     |163101  |\npassengercars       |0.140344277547   |5070475.159153907      |4352893 |\nnot_set             |0.000226144583265|334.39333465509117     |1579    |\nfleet_and_business  |0.0608427498631  |67761.06667587347      |58185   |\neco                 |0.0195279238448  |68855.40662708133      |77677   |\ndealer_locator      |0.0468594042156  |45252.033313605934     |43354   |\nuser_cars           |0.0152679903111  |347415.66301743314     |305136  |\nyour_vehicle        |0.00604677805739 |1191983.5327074062     |944205  |\ninterior            |0.00735244859513 |39330.01353548281      |140908  |\nconfigurator        |0.0326866936709  |9789411.127506828      |20625394|\nvehicle_search      |0.0133952065773  |10587.023356415331     |15898   |\nerrors              |0.0              |184.0433335788548      |198     |\nonline_code         |0.00312540319989 |4425.023350354284      |9891    |\nmoterization        |0.0452552094626  |2695789.7116467822     |4906744 |\nhome                |0.0331879029136  |99092.74374614283      |304187  |\ndesign              |0.0639875369059  |13988.110007168725     |15085   |\nfeasibility_abort   |0.00620223593645 |299789.76903378405     |1123087 |\nmodels              |0.000621330885209|2447.0499939210713     |3332    |\noffers              |0.0481786250678  |269436.3398547247      |187217  |\nowner               |0.078220592708   |341250.6263089664      |324385  |\n+--------------------+-----------------+-----------------------+--------+\n\n</div>"
      ]
     },
     "metadata": {},
     "output_type": "display_data"
    }
   ],
   "source": [
    "df_merge.show(50,False)"
   ]
  },
  {
   "cell_type": "code",
   "execution_count": 47,
   "metadata": {},
   "outputs": [
    {
     "data": {
      "text/html": [
       "<style scoped>\n  .ansiout {\n    display: block;\n    unicode-bidi: embed;\n    white-space: pre-wrap;\n    word-wrap: break-word;\n    word-break: break-all;\n    font-family: \"Source Code Pro\", \"Menlo\", monospace;;\n    font-size: 13px;\n    color: #555;\n    margin-left: 4px;\n    line-height: 19px;\n  }\n</style>\n<div class=\"ansiout\">+--------------------+-----------------+-----------------------+--------+\npage_category       |importance       |sum(time_spent_in_mins)|count   |\n+--------------------+-----------------+-----------------------+--------+\npassengercars       |0.140344277547   |5070475.159153907      |4352893 |\nothers              |0.134461458003   |154387.50322023593     |163101  |\ncontact-us          |0.120489044054   |60607.336636586115     |64052   |\nowner               |0.078220592708   |341250.6263089664      |324385  |\ndesign              |0.0639875369059  |13988.110007168725     |15085   |\nfinance             |0.0622014313542  |302732.3098520059      |228616  |\nfleet_and_business  |0.0608427498631  |67761.06667587347      |58185   |\noffers              |0.0481786250678  |269436.3398547247      |187217  |\ndealer_locator      |0.0468594042156  |45252.033313605934     |43354   |\nmoterization        |0.0452552094626  |2695789.7116467822     |4906744 |\nhome                |0.0331879029136  |99092.74374614283      |304187  |\nconfigurator        |0.0326866936709  |9789411.127506828      |20625394|\neco                 |0.0195279238448  |68855.40662708133      |77677   |\nuser_cars           |0.0152679903111  |347415.66301743314     |305136  |\nchat                |0.0135336147488  |18260.350013582036     |16466   |\nvehicle_search      |0.0133952065773  |10587.023356415331     |15898   |\nitem_info           |0.0125540020934  |1002520.9413638525     |1507814 |\nfeasibility_conflict|0.0121365155868  |1417049.4776352998     |7910255 |\nbusiness_cars       |0.00755847375169 |51127.10333178379      |63401   |\ninterior            |0.00735244859513 |39330.01353548281      |140908  |\nfeasibility_abort   |0.00620223593645 |299789.76903378405     |1123087 |\nyour_vehicle        |0.00604677805739 |1191983.5327074062     |944205  |\nexterior            |0.00588333551497 |37011.913592431694     |147230  |\nconnectivity        |0.00482261625895 |14846.933481987566     |96447   |\nonline_code         |0.00312540319989 |4425.023350354284      |9891    |\nsafety              |0.0026391707101  |19746.416775638238     |71325   |\nprint_layer         |0.00207427879779 |78259.30329265259      |44555   |\nmodels              |0.000621330885209|2447.0499939210713     |3332    |\nconnect_store       |0.000317604781969|45989.233353929594     |47442   |\nnot_set             |0.000226144583265|334.39333465509117     |1579    |\noverview            |0.0              |1.776666671037674      |5       |\nerrors              |0.0              |184.0433335788548      |198     |\n+--------------------+-----------------+-----------------------+--------+\n\n</div>"
      ]
     },
     "metadata": {},
     "output_type": "display_data"
    }
   ],
   "source": [
    "df_merge.orderBy(\"importance\", ascending=False).show(50,False)"
   ]
  },
  {
   "cell_type": "code",
   "execution_count": 48,
   "metadata": {},
   "outputs": [
    {
     "data": {
      "text/html": [
       "<style scoped>\n  .ansiout {\n    display: block;\n    unicode-bidi: embed;\n    white-space: pre-wrap;\n    word-wrap: break-word;\n    word-break: break-all;\n    font-family: \"Source Code Pro\", \"Menlo\", monospace;;\n    font-size: 13px;\n    color: #555;\n    margin-left: 4px;\n    line-height: 19px;\n  }\n</style>\n<div class=\"ansiout\"></div>"
      ]
     },
     "metadata": {},
     "output_type": "display_data"
    }
   ],
   "source": [
    "#save final results back to storage \ndf_merge.coalesce(1).write.format(\"csv\").option(\"header\",\"true\").save(\"wasbs://hashed-italy@sankalpstoragesapient.blob.core.windows.net/page_importance\")"
   ]
  },
  {
   "cell_type": "code",
   "execution_count": 49,
   "metadata": {},
   "outputs": [],
   "source": [
    ""
   ]
  }
 ],
 "metadata": {
  "name": "Content_Attribution_v1",
  "notebookId": 2027682686046599
 },
 "nbformat": 4,
 "nbformat_minor": 0
}
