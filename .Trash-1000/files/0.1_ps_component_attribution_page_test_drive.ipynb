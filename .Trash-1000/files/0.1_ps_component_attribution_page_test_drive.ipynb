{
 "cells": [
  {
   "cell_type": "code",
   "execution_count": 20,
   "metadata": {},
   "outputs": [],
   "source": [
    "# Import Libraries from Pyspark\n",
    "import pyspark\n",
    "import re\n",
    "from pyspark import SparkContext\n",
    "from pyspark.sql.functions import *\n",
    "from pyspark.sql.window import Window\n",
    "from pyspark.sql.types import *\n",
    "from datetime import datetime\n",
    "import os\n",
    "from IPython.display import Image\n",
    "from pyspark.ml.feature import VectorAssembler\n",
    "from pyspark.ml.classification import LogisticRegression\n",
    "from pyspark.ml.evaluation import BinaryClassificationEvaluator\n",
    "from pyspark.ml.classification import RandomForestClassifier\n",
    "from pyspark.sql.functions import sha2\n",
    "from pyspark.sql import SQLContext"
   ]
  },
  {
   "cell_type": "code",
   "execution_count": 21,
   "metadata": {},
   "outputs": [],
   "source": [
    "from pyspark.sql import SparkSession\n",
    "spark=SparkSession.builder.appName('demo_content').getOrCreate()"
   ]
  },
  {
   "cell_type": "code",
   "execution_count": 22,
   "metadata": {},
   "outputs": [],
   "source": [
    "# location of dataset \n",
    "hit_log_uri = '/home/jovyan/work/hashed_data.csv'"
   ]
  },
  {
   "cell_type": "code",
   "execution_count": 23,
   "metadata": {},
   "outputs": [],
   "source": [
    "# load data into spark\n",
    "df = spark.read.csv(hit_log_uri,sep=',',encoding='ISO-8859-1',header=True) "
   ]
  },
  {
   "cell_type": "code",
   "execution_count": 7,
   "metadata": {},
   "outputs": [],
   "source": [
    "# load page category mapping file\n",
    "comp_mapping_uri='/home/jovyan/work/component_mapping.csv'"
   ]
  },
  {
   "cell_type": "code",
   "execution_count": null,
   "metadata": {},
   "outputs": [],
   "source": [
    "# load page category mapping file\n",
    "comp_mapping_uri='/home/jovyan/work/component_mapping.csv'"
   ]
  },
  {
   "cell_type": "code",
   "execution_count": 8,
   "metadata": {},
   "outputs": [],
   "source": [
    "#read the page category mapping file\n",
    "df_compname_mapping = spark.read.csv(comp_mapping_uri, header=True)"
   ]
  },
  {
   "cell_type": "code",
   "execution_count": 10,
   "metadata": {},
   "outputs": [],
   "source": [
    "dict_compename_mapping = {row['Component']:row['Component Category'] for row in df_compname_mapping.select('Component','Component Category').collect()}\n"
   ]
  },
  {
   "cell_type": "code",
   "execution_count": 11,
   "metadata": {},
   "outputs": [],
   "source": [
    "def udf_wrapper(returntype):\n",
    "        def udf_func(func):\n",
    "            return udf(func, returnType=returntype)\n",
    "        return udf_func\n",
    "        \n",
    "@udf_wrapper(StringType())\n",
    "def get_comp_category(comp_type):\n",
    "    '''\n",
    "    based on the page_type return page category\n",
    "    '''\n",
    "    if comp_type is None:\n",
    "        return None\n",
    "    if comp_type == 'null':\n",
    "        return None\n",
    "    if comp_type in dict_compename_mapping.keys():\n",
    "        return dict_compename_mapping[comp_type]\n",
    "    else:\n",
    "        return None"
   ]
  },
  {
   "cell_type": "code",
   "execution_count": 12,
   "metadata": {},
   "outputs": [],
   "source": [
    "df=df.withColumn('comp_category', get_comp_category(col('evar26')))"
   ]
  },
  {
   "cell_type": "code",
   "execution_count": 13,
   "metadata": {},
   "outputs": [],
   "source": [
    "#remove records which doesnt capture pagename\n",
    "df_processed = df.filter(col('hit_source') == '1') \\\n",
    "                    .filter(col('exclude_hit') == '0') \\\n",
    "                    .filter(col('comp_category') != '')"
   ]
  },
  {
   "cell_type": "code",
   "execution_count": 14,
   "metadata": {},
   "outputs": [
    {
     "data": {
      "text/plain": [
       "38335"
      ]
     },
     "execution_count": 14,
     "metadata": {},
     "output_type": "execute_result"
    }
   ],
   "source": [
    "df_processed.select('hashed_visitor_id').distinct().count()"
   ]
  },
  {
   "cell_type": "code",
   "execution_count": 16,
   "metadata": {},
   "outputs": [],
   "source": [
    "df_agg=df_processed.groupBy('hashed_visitor_id').count().orderBy('count',ascending=False)"
   ]
  },
  {
   "cell_type": "code",
   "execution_count": 17,
   "metadata": {},
   "outputs": [],
   "source": [
    "#filter outliers with high or less number of activities \n",
    "df_filter=df_agg.filter(df_agg['count'] < 10000).filter(df_agg['count'] > 2)"
   ]
  },
  {
   "cell_type": "code",
   "execution_count": 14,
   "metadata": {},
   "outputs": [
    {
     "data": {
      "text/plain": [
       "23642"
      ]
     },
     "execution_count": 14,
     "metadata": {},
     "output_type": "execute_result"
    }
   ],
   "source": [
    "#final number of unique visitors \n",
    "df_filter.count()"
   ]
  },
  {
   "cell_type": "code",
   "execution_count": 18,
   "metadata": {},
   "outputs": [],
   "source": [
    "#combine with original dataframe \n",
    "df_processed = df_processed.join(df_filter, on='hashed_visitor_id', how='inner')"
   ]
  },
  {
   "cell_type": "code",
   "execution_count": 16,
   "metadata": {},
   "outputs": [
    {
     "data": {
      "text/plain": [
       "567964"
      ]
     },
     "execution_count": 16,
     "metadata": {},
     "output_type": "execute_result"
    }
   ],
   "source": [
    "#final number of records for model \n",
    "df_processed.count()"
   ]
  },
  {
   "cell_type": "code",
   "execution_count": 19,
   "metadata": {},
   "outputs": [],
   "source": [
    "def udf_wrapper(returntype):\n",
    "        def udf_func(func):\n",
    "            return udf(func, returnType=returntype)\n",
    "        return udf_func\n",
    "        \n",
    "        \n",
    "     # sessionization\n",
    "TIME_OUT = 30 # 30 minutes of timeout\n",
    "\n",
    "\n",
    "@udf_wrapper(IntegerType())\n",
    "def get_event_boundary(time_diff):\n",
    "    '''\n",
    "    based on the timeout value, return the event boundary\n",
    "    '''\n",
    "    if(time_diff is None):\n",
    "        return 0\n",
    "    else:\n",
    "        if(time_diff > TIME_OUT):\n",
    "            return 1\n",
    "        else:\n",
    "            return 0\n",
    "\n",
    "@udf_wrapper(FloatType())\n",
    "def set_default_page_time(time_spent):\n",
    "    '''\n",
    "    based on the time spent, if if\n",
    "    '''\n",
    "    if(time_spent is None):\n",
    "        return 0.08 # 5 seconds \n",
    "    else:\n",
    "        return time_spent"
   ]
  },
  {
   "cell_type": "code",
   "execution_count": 18,
   "metadata": {},
   "outputs": [],
   "source": [
    "def conversion(page_category):\n",
    "        if page_category == 'test_drive':\n",
    "            return 1\n",
    "        else : \n",
    "            return 0\n",
    "    \n",
    "conversion_udf = udf(conversion, IntegerType())\n"
   ]
  },
  {
   "cell_type": "code",
   "execution_count": 19,
   "metadata": {},
   "outputs": [],
   "source": [
    "# Timestamp Conversion\n",
    "ts_pattern_1 = 'yyyy-MM-dd HH:mm:ss'\n",
    "date_pattern_1 = 'yyyy-MM-dd'"
   ]
  },
  {
   "cell_type": "code",
   "execution_count": 20,
   "metadata": {},
   "outputs": [],
   "source": [
    "df_processed = df_processed\\\n",
    "                     .withColumn('date_time_ts',unix_timestamp(col('date_time'), ts_pattern_1).cast('timestamp'))\\\n",
    "                     .withColumn('conversion_status', conversion_udf('page_category'))\n",
    "                     \n",
    "    \n",
    "                         \n",
    "    \n",
    "# Sessionization\n",
    "w0 = Window.partitionBy(col('hashed_visitor_id'))\n",
    "\n",
    "w1 = Window.partitionBy(col('hashed_visitor_id')).orderBy(col('date_time_ts'))\n",
    "\n",
    "w2 = Window.partitionBy(col('hashed_visitor_id'),col('session_id')).orderBy(col('date_time_ts').desc())\n",
    "\n",
    "w3 = Window.partitionBy(col('hashed_visitor_id'),col('session_id')).orderBy(col('date_time_ts'))\n",
    "\n",
    "df_processed  = df_processed \\\n",
    "                   .withColumn('is_converted', max(col('conversion_status')).over(w0)) \\\n",
    "                   .withColumn('prev', lag(col('date_time_ts'),1).over(w1)) \\\n",
    "                   .withColumn('time_diff',((col('date_time_ts').cast('long') - col('prev').cast('long'))/60.0)) \\\n",
    "                   .withColumn('new_event_boundary',get_event_boundary(col('time_diff'))) \\\n",
    "                   .withColumn('session_id', sum(col('new_event_boundary')).over(w1)) \\\n",
    "                   .drop('prev','time_diff','new_event_boundary')\n",
    "\n",
    "                    \n",
    "# hit order\n",
    "df_processed = df_processed.withColumn('hit_rank_reversed', dense_rank().over(w2))\n",
    "\n",
    "\n",
    "\n",
    "#Time Spent                      \n",
    "df_processed = df_processed\\\n",
    "                    .withColumn('next', lead(col('date_time_ts'),1).over(w3)) \\\n",
    "                    .withColumn('time_diff',((col('next').cast('long') - col('date_time_ts').cast('long'))/60.0)) \\\n",
    "                    .withColumn('time_spent_in_mins',set_default_page_time(col('time_diff'))) \n"
   ]
  },
  {
   "cell_type": "code",
   "execution_count": 21,
   "metadata": {},
   "outputs": [
    {
     "data": {
      "text/plain": [
       "173"
      ]
     },
     "execution_count": 21,
     "metadata": {},
     "output_type": "execute_result"
    }
   ],
   "source": [
    "#number of converted visitors\n",
    "df_processed.filter(df_processed['is_converted']=='1').select('hashed_visitor_id').distinct().count()"
   ]
  },
  {
   "cell_type": "code",
   "execution_count": 22,
   "metadata": {},
   "outputs": [],
   "source": [
    "df_page_category_counts = df_processed.groupby('hashed_visitor_id').pivot('page_category').agg(count('hashed_visitor_id').cast('float'))\n"
   ]
  },
  {
   "cell_type": "code",
   "execution_count": 23,
   "metadata": {},
   "outputs": [],
   "source": [
    "excluded_page_category = ['test_drive']"
   ]
  },
  {
   "cell_type": "code",
   "execution_count": 24,
   "metadata": {},
   "outputs": [],
   "source": [
    "filtered_columns = ([column for column in df_page_category_counts.columns if column not in excluded_page_category])\n",
    "df_page_category_counts = df_page_category_counts.select(filtered_columns)\n",
    "df_page_category_counts = df_page_category_counts.fillna(0.0)"
   ]
  },
  {
   "cell_type": "code",
   "execution_count": 25,
   "metadata": {},
   "outputs": [],
   "source": [
    "replacements = {c:'page_count_{0}'.format(c) for c in df_page_category_counts.columns if c != 'hashed_visitor_id'}"
   ]
  },
  {
   "cell_type": "code",
   "execution_count": 26,
   "metadata": {},
   "outputs": [],
   "source": [
    "df_page_category_counts = df_page_category_counts.select([col(c).alias(replacements.get(c, c)) for c in df_page_category_counts.columns])\n"
   ]
  },
  {
   "cell_type": "code",
   "execution_count": 27,
   "metadata": {},
   "outputs": [
    {
     "data": {
      "text/plain": [
       "['hashed_visitor_id',\n",
       " 'page_count_business_cars',\n",
       " 'page_count_chat',\n",
       " 'page_count_configurator',\n",
       " 'page_count_connect_store',\n",
       " 'page_count_connectivity',\n",
       " 'page_count_contact-us',\n",
       " 'page_count_dealer_locator',\n",
       " 'page_count_design',\n",
       " 'page_count_eco',\n",
       " 'page_count_errors',\n",
       " 'page_count_exterior',\n",
       " 'page_count_feasibility_abort',\n",
       " 'page_count_feasibility_conflict',\n",
       " 'page_count_finance',\n",
       " 'page_count_fleet_and_business',\n",
       " 'page_count_home',\n",
       " 'page_count_interior',\n",
       " 'page_count_item_info',\n",
       " 'page_count_moterization',\n",
       " 'page_count_not_set',\n",
       " 'page_count_offers',\n",
       " 'page_count_others',\n",
       " 'page_count_owner',\n",
       " 'page_count_passengercars',\n",
       " 'page_count_print_layer',\n",
       " 'page_count_safety',\n",
       " 'page_count_user_cars',\n",
       " 'page_count_vehicle_search',\n",
       " 'page_count_your_vehicle']"
      ]
     },
     "execution_count": 27,
     "metadata": {},
     "output_type": "execute_result"
    }
   ],
   "source": [
    "df_page_category_counts.columns"
   ]
  },
  {
   "cell_type": "code",
   "execution_count": 28,
   "metadata": {},
   "outputs": [],
   "source": [
    "aggregations = []\n",
    "aggregations.append(count(col('hashed_visitor_id')).alias('total_activity_count'))\n",
    "aggregations.append(countDistinct(col('session_id')).alias('total_session_count'))\n",
    "aggregations.append(max(col('is_converted')).alias('is_converted_visitor'))"
   ]
  },
  {
   "cell_type": "code",
   "execution_count": 29,
   "metadata": {},
   "outputs": [],
   "source": [
    "df_aggregated_others = df_processed.select('hashed_visitor_id','is_converted','session_id').groupBy('hashed_visitor_id').agg(*aggregations)\n"
   ]
  },
  {
   "cell_type": "code",
   "execution_count": 30,
   "metadata": {},
   "outputs": [
    {
     "data": {
      "text/plain": [
       "['hashed_visitor_id',\n",
       " 'total_activity_count',\n",
       " 'total_session_count',\n",
       " 'is_converted_visitor']"
      ]
     },
     "execution_count": 30,
     "metadata": {},
     "output_type": "execute_result"
    }
   ],
   "source": [
    "df_aggregated_others.columns"
   ]
  },
  {
   "cell_type": "code",
   "execution_count": 31,
   "metadata": {},
   "outputs": [],
   "source": [
    "df_final =  df_page_category_counts.join(df_aggregated_others,'hashed_visitor_id', 'inner')"
   ]
  },
  {
   "cell_type": "code",
   "execution_count": 32,
   "metadata": {},
   "outputs": [
    {
     "data": {
      "text/plain": [
       "['hashed_visitor_id',\n",
       " 'page_count_business_cars',\n",
       " 'page_count_chat',\n",
       " 'page_count_configurator',\n",
       " 'page_count_connect_store',\n",
       " 'page_count_connectivity',\n",
       " 'page_count_contact-us',\n",
       " 'page_count_dealer_locator',\n",
       " 'page_count_design',\n",
       " 'page_count_eco',\n",
       " 'page_count_errors',\n",
       " 'page_count_exterior',\n",
       " 'page_count_feasibility_abort',\n",
       " 'page_count_feasibility_conflict',\n",
       " 'page_count_finance',\n",
       " 'page_count_fleet_and_business',\n",
       " 'page_count_home',\n",
       " 'page_count_interior',\n",
       " 'page_count_item_info',\n",
       " 'page_count_moterization',\n",
       " 'page_count_not_set',\n",
       " 'page_count_offers',\n",
       " 'page_count_others',\n",
       " 'page_count_owner',\n",
       " 'page_count_passengercars',\n",
       " 'page_count_print_layer',\n",
       " 'page_count_safety',\n",
       " 'page_count_user_cars',\n",
       " 'page_count_vehicle_search',\n",
       " 'page_count_your_vehicle',\n",
       " 'total_activity_count',\n",
       " 'total_session_count',\n",
       " 'is_converted_visitor']"
      ]
     },
     "execution_count": 32,
     "metadata": {},
     "output_type": "execute_result"
    }
   ],
   "source": [
    "df_final.columns"
   ]
  },
  {
   "cell_type": "code",
   "execution_count": 33,
   "metadata": {},
   "outputs": [],
   "source": [
    "model_inputs=[col for col in df_final.columns if col not in \n",
    "              ['hashed_visitor_id','is_converted_visitor','total_activity_count','total_session_count']]"
   ]
  },
  {
   "cell_type": "code",
   "execution_count": 35,
   "metadata": {},
   "outputs": [],
   "source": [
    "#creating the assemblerfor input variables \n",
    "assembler=VectorAssembler(inputCols=model_inputs,outputCol='features')\n"
   ]
  },
  {
   "cell_type": "code",
   "execution_count": 36,
   "metadata": {},
   "outputs": [],
   "source": [
    "#creating dense vector represntation of input variables\n",
    "output=assembler.transform(df_final)"
   ]
  },
  {
   "cell_type": "code",
   "execution_count": 37,
   "metadata": {},
   "outputs": [],
   "source": [
    "#declaring the input dense vector and output variable\n",
    "data=output.select('features','is_converted_visitor')\n"
   ]
  },
  {
   "cell_type": "code",
   "execution_count": 40,
   "metadata": {},
   "outputs": [],
   "source": [
    "#build and train the ML model\n",
    "rfc=RandomForestClassifier(labelCol='is_converted_visitor',featuresCol='features')"
   ]
  },
  {
   "cell_type": "code",
   "execution_count": 41,
   "metadata": {},
   "outputs": [],
   "source": [
    "#fit the model on training data \n",
    "rf_model=rfc.fit(data)"
   ]
  },
  {
   "cell_type": "code",
   "execution_count": 42,
   "metadata": {},
   "outputs": [],
   "source": [
    "#map the page ids back to pagenames\n",
    "feats={}\n",
    "for feature,importance in zip(model_inputs,rf_model.featureImportances):\n",
    "    feats[feature]=importance"
   ]
  },
  {
   "cell_type": "code",
   "execution_count": 44,
   "metadata": {},
   "outputs": [
    {
     "data": {
      "text/plain": [
       "dict_keys(['page_count_business_cars', 'page_count_chat', 'page_count_configurator', 'page_count_connect_store', 'page_count_connectivity', 'page_count_contact-us', 'page_count_dealer_locator', 'page_count_design', 'page_count_eco', 'page_count_errors', 'page_count_exterior', 'page_count_feasibility_abort', 'page_count_feasibility_conflict', 'page_count_finance', 'page_count_fleet_and_business', 'page_count_home', 'page_count_interior', 'page_count_item_info', 'page_count_moterization', 'page_count_not_set', 'page_count_offers', 'page_count_others', 'page_count_owner', 'page_count_passengercars', 'page_count_print_layer', 'page_count_safety', 'page_count_user_cars', 'page_count_vehicle_search', 'page_count_your_vehicle'])"
      ]
     },
     "execution_count": 44,
     "metadata": {},
     "output_type": "execute_result"
    }
   ],
   "source": [
    "feats.keys()"
   ]
  },
  {
   "cell_type": "code",
   "execution_count": 45,
   "metadata": {},
   "outputs": [
    {
     "data": {
      "text/plain": [
       "dict_values([0.08560535807322521, 0.038186412870358219, 0.061054764966927542, 0.00032822995067791115, 0.0, 0.015912323438681049, 0.091563709989187614, 0.059257047393501738, 0.011369352477104612, 0.0, 0.016405569028626707, 0.015038239932216441, 0.018077448255833621, 0.17790596121686464, 0.018883744798244596, 0.072487453532855836, 0.0022112536484443844, 0.0096352193510687925, 0.067616303828090502, 0.0, 0.0, 0.061683447592672871, 0.046210913941203607, 0.07023411245215691, 0.011370812593419106, 0.0, 0.031115040641733129, 0.0030177171162483812, 0.014829562910656785])"
      ]
     },
     "execution_count": 45,
     "metadata": {},
     "output_type": "execute_result"
    }
   ],
   "source": [
    "feats.values()"
   ]
  },
  {
   "cell_type": "code",
   "execution_count": 47,
   "metadata": {},
   "outputs": [],
   "source": [
    "results=sorted(feats.items(),key=lambda x:x[1],reverse=True)"
   ]
  },
  {
   "cell_type": "code",
   "execution_count": 59,
   "metadata": {},
   "outputs": [],
   "source": [
    "final_results_page=[(key,str(imp)) for key,imp in results]\n",
    "results_df = spark.createDataFrame(final_results_page, ['key','val'])"
   ]
  },
  {
   "cell_type": "code",
   "execution_count": 61,
   "metadata": {},
   "outputs": [
    {
     "name": "stdout",
     "output_type": "stream",
     "text": [
      "+-------------------------------+-----------------+\n",
      "|key                            |val              |\n",
      "+-------------------------------+-----------------+\n",
      "|page_count_finance             |0.177905961217   |\n",
      "|page_count_dealer_locator      |0.0915637099892  |\n",
      "|page_count_business_cars       |0.0856053580732  |\n",
      "|page_count_home                |0.0724874535329  |\n",
      "|page_count_passengercars       |0.0702341124522  |\n",
      "|page_count_moterization        |0.0676163038281  |\n",
      "|page_count_others              |0.0616834475927  |\n",
      "|page_count_configurator        |0.0610547649669  |\n",
      "|page_count_design              |0.0592570473935  |\n",
      "|page_count_owner               |0.0462109139412  |\n",
      "|page_count_chat                |0.0381864128704  |\n",
      "|page_count_user_cars           |0.0311150406417  |\n",
      "|page_count_fleet_and_business  |0.0188837447982  |\n",
      "|page_count_feasibility_conflict|0.0180774482558  |\n",
      "|page_count_exterior            |0.0164055690286  |\n",
      "|page_count_contact-us          |0.0159123234387  |\n",
      "|page_count_feasibility_abort   |0.0150382399322  |\n",
      "|page_count_your_vehicle        |0.0148295629107  |\n",
      "|page_count_print_layer         |0.0113708125934  |\n",
      "|page_count_eco                 |0.0113693524771  |\n",
      "|page_count_item_info           |0.00963521935107 |\n",
      "|page_count_vehicle_search      |0.00301771711625 |\n",
      "|page_count_interior            |0.00221125364844 |\n",
      "|page_count_connect_store       |0.000328229950678|\n",
      "|page_count_connectivity        |0.0              |\n",
      "|page_count_errors              |0.0              |\n",
      "|page_count_not_set             |0.0              |\n",
      "|page_count_offers              |0.0              |\n",
      "|page_count_safety              |0.0              |\n",
      "+-------------------------------+-----------------+\n",
      "\n"
     ]
    }
   ],
   "source": [
    "results_df.show(50,False)"
   ]
  },
  {
   "cell_type": "code",
   "execution_count": 62,
   "metadata": {},
   "outputs": [],
   "source": [
    "def page_imp_model(model_inputs,data):\n",
    "    \n",
    "    \n",
    "    #creating the assemblerfor input variables \n",
    "    assembler=VectorAssembler(inputCols=model_inputs,outputCol='features')\n",
    "\n",
    "\n",
    "\n",
    "    #creating dense vector represntation of input variables\n",
    "    output=assembler.transform(df_final)\n",
    "    \n",
    "    \n",
    "    #declaring the input dense vector and output variable\n",
    "    data=output.select('features','is_converted_visitor')\n",
    "    \n",
    "    \n",
    "    #build and train the ML model\n",
    "    rfc=RandomForestClassifier(labelCol='is_converted_visitor',featuresCol='features')\n",
    "\n",
    "    #fit the model on training data \n",
    "    rf_model=rfc.fit(data)\n",
    "    \n",
    "    #create dictionary with page and importance\n",
    "    feats={}\n",
    "    for feature,importance in zip(model_inputs,rf_model.featureImportances):\n",
    "        feats[feature]=importance\n",
    "        \n",
    "        \n",
    "    #map the page ids back to pagenames\n",
    "    feats={}\n",
    "    for feature,importance in zip(model_inputs,rf_model.featureImportances):\n",
    "        feats[feature]=importance\n",
    "\n",
    "\n",
    "    results=sorted(feats.items(),key=lambda x:x[1],reverse=True)\n",
    "    \n",
    "    #create dataframe with page and importance\n",
    "    final_results_page=[(key,str(imp)) for key,imp in results]\n",
    "    results_df = spark.createDataFrame(final_results_page, ['key','val'])\n",
    "    \n",
    "    return results_df\n"
   ]
  },
  {
   "cell_type": "code",
   "execution_count": null,
   "metadata": {},
   "outputs": [],
   "source": [
    "page_imp=page_imp_model(model_inputs,df_final)"
   ]
  },
  {
   "cell_type": "code",
   "execution_count": null,
   "metadata": {},
   "outputs": [],
   "source": []
  }
 ],
 "metadata": {
  "kernelspec": {
   "display_name": "Python 3",
   "language": "python",
   "name": "python3"
  },
  "language_info": {
   "codemirror_mode": {
    "name": "ipython",
    "version": 3
   },
   "file_extension": ".py",
   "mimetype": "text/x-python",
   "name": "python",
   "nbconvert_exporter": "python",
   "pygments_lexer": "ipython3",
   "version": "3.6.3"
  }
 },
 "nbformat": 4,
 "nbformat_minor": 2
}
