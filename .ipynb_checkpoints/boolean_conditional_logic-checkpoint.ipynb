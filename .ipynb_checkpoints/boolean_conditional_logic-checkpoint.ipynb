{
 "cells": [
  {
   "cell_type": "code",
   "execution_count": 5,
   "metadata": {},
   "outputs": [
    {
     "name": "stdout",
     "output_type": "stream",
     "text": [
      "Please enter the magic word :new\n",
      "You got it !!!\n"
     ]
    }
   ],
   "source": [
    "name=str(input(\"Please enter the magic word :\"))\n",
    "\n",
    "if name ==\"Dan\":\n",
    "    print(\"Please try again \")\n",
    "elif name =='Jan':\n",
    "    print(\"Try one more time \")\n",
    "else :\n",
    "    print(\"You got it !!!\")"
   ]
  },
  {
   "cell_type": "code",
   "execution_count": 4,
   "metadata": {},
   "outputs": [
    {
     "name": "stdout",
     "output_type": "stream",
     "text": [
      "Please enter the number : 10\n",
      "Even\n"
     ]
    }
   ],
   "source": [
    "num=int(input(\"Please enter the number : \"))\n",
    "if num%2==1:\n",
    "    print(\"Odd\")\n",
    "else : \n",
    "    print(\"Even\")"
   ]
  },
  {
   "cell_type": "code",
   "execution_count": 8,
   "metadata": {},
   "outputs": [
    {
     "name": "stdout",
     "output_type": "stream",
     "text": [
      "Please enter your age : 100\n",
      "You got to retire now  !!!\n"
     ]
    }
   ],
   "source": [
    "#multiple elif \n",
    "\n",
    "age=int(input(\"Please enter your age : \"))\n",
    "\n",
    "if age < 10 :\n",
    "    print(\"Junior\")\n",
    "elif age < 20:\n",
    "    print(\"Teenager \")\n",
    "elif age < 30:\n",
    "    print(\"Young \")\n",
    "elif age < 40:\n",
    "    print(\"Grown Up \")\n",
    "elif age < 50:\n",
    "    print(\"Experienced \")\n",
    "else :\n",
    "    print(\"You got to retire now  !!!\")\n"
   ]
  },
  {
   "cell_type": "markdown",
   "metadata": {},
   "source": [
    "### Truth in python "
   ]
  },
  {
   "cell_type": "code",
   "execution_count": 9,
   "metadata": {},
   "outputs": [],
   "source": [
    "x= 1"
   ]
  },
  {
   "cell_type": "code",
   "execution_count": 10,
   "metadata": {},
   "outputs": [
    {
     "data": {
      "text/plain": [
       "True"
      ]
     },
     "execution_count": 10,
     "metadata": {},
     "output_type": "execute_result"
    }
   ],
   "source": [
    "x is 1"
   ]
  },
  {
   "cell_type": "code",
   "execution_count": 11,
   "metadata": {},
   "outputs": [
    {
     "data": {
      "text/plain": [
       "False"
      ]
     },
     "execution_count": 11,
     "metadata": {},
     "output_type": "execute_result"
    }
   ],
   "source": [
    "x is 0"
   ]
  },
  {
   "cell_type": "code",
   "execution_count": 12,
   "metadata": {},
   "outputs": [
    {
     "name": "stdout",
     "output_type": "stream",
     "text": [
      "1 is always True\n"
     ]
    }
   ],
   "source": [
    "# by default 1 is true and 0 is false\n",
    "\n",
    "if 1: \n",
    "    print(\"1 is always True\")"
   ]
  },
  {
   "cell_type": "code",
   "execution_count": 13,
   "metadata": {},
   "outputs": [],
   "source": [
    "if 0:\n",
    "    print(\"1 is always False\")"
   ]
  },
  {
   "cell_type": "markdown",
   "metadata": {},
   "source": [
    "### Example"
   ]
  },
  {
   "cell_type": "code",
   "execution_count": 16,
   "metadata": {},
   "outputs": [
    {
     "name": "stdout",
     "output_type": "stream",
     "text": [
      "Please enter your fav sports :\n",
      "Please enter the fav sports \n"
     ]
    }
   ],
   "source": [
    "sport=str(input( 'Please enter your fav sports :' ))\n",
    "\n",
    "if sport:\n",
    "    print(\"You must like this game \")\n",
    "else:\n",
    "    print(\"Please enter the fav sports \")\n"
   ]
  },
  {
   "cell_type": "code",
   "execution_count": 17,
   "metadata": {},
   "outputs": [
    {
     "name": "stdout",
     "output_type": "stream",
     "text": [
      "Please enter your fav sports :cricket\n",
      "You must like this game \n"
     ]
    }
   ],
   "source": [
    "sport=str(input( 'Please enter your fav sports :' ))\n",
    "\n",
    "if sport:\n",
    "    print(\"You must like this game \")\n",
    "else:\n",
    "    print(\"Please enter the fav sports \")"
   ]
  },
  {
   "cell_type": "code",
   "execution_count": 18,
   "metadata": {},
   "outputs": [],
   "source": [
    "# Logical Operators \n",
    "\n"
   ]
  },
  {
   "cell_type": "markdown",
   "metadata": {},
   "source": [
    "### And "
   ]
  },
  {
   "cell_type": "code",
   "execution_count": 19,
   "metadata": {},
   "outputs": [
    {
     "name": "stdout",
     "output_type": "stream",
     "text": [
      "Please enter your first preferred sports : cricket\n",
      "Please enter your second preferred sports : rugby\n",
      "You should watch on TV !!\n"
     ]
    }
   ],
   "source": [
    "sport_1=str(input(\"Please enter your first preferred sports : \"))\n",
    "sport_2=str(input(\"Please enter your second preferred sports : \"))\n",
    "\n",
    "if sport_1=='cricket' and sport_2=='kabaddi':\n",
    "    print(\"You should visit India !!\")\n",
    "    \n",
    "elif sport_1=='football' and sport_2=='tennis':\n",
    "    print(\"You should visit UK !!\")\n",
    "\n",
    "elif sport_1=='rugby' and sport_2=='baseball':\n",
    "    print(\"You should visit USA !!\")\n",
    "    \n",
    "else : \n",
    "    print(\"You should watch on TV !!\")\n",
    "    \n",
    "    "
   ]
  },
  {
   "cell_type": "markdown",
   "metadata": {},
   "source": [
    "### OR "
   ]
  },
  {
   "cell_type": "code",
   "execution_count": 20,
   "metadata": {},
   "outputs": [
    {
     "name": "stdout",
     "output_type": "stream",
     "text": [
      "Please enter your first preferred sports : cricket\n",
      "Please enter your second preferred sports : rugby\n",
      "You should visit India !!\n"
     ]
    }
   ],
   "source": [
    "sport_1=str(input(\"Please enter your first preferred sports : \"))\n",
    "sport_2=str(input(\"Please enter your second preferred sports : \"))\n",
    "\n",
    "if sport_1=='cricket' or sport_2=='kabaddi':\n",
    "    print(\"You should visit India !!\")\n",
    "    \n",
    "elif sport_1=='football' or sport_2=='tennis':\n",
    "    print(\"You should visit UK !!\")\n",
    "\n",
    "elif sport_1=='rugby' or sport_2=='baseball':\n",
    "    print(\"You should visit USA !!\")\n",
    "    \n",
    "else : \n",
    "    print(\"You should watch on TV !!\")"
   ]
  },
  {
   "cell_type": "markdown",
   "metadata": {},
   "source": [
    "## ROCK PAPER SCISSORS"
   ]
  },
  {
   "cell_type": "markdown",
   "metadata": {},
   "source": [
    "Basic ver"
   ]
  },
  {
   "cell_type": "code",
   "execution_count": 3,
   "metadata": {},
   "outputs": [
    {
     "name": "stdout",
     "output_type": "stream",
     "text": [
      "****Rock****\n",
      "****Paper****\n",
      "****Scissors****\n"
     ]
    }
   ],
   "source": [
    "print('****Rock****')\n",
    "print('****Paper****')\n",
    "print('****Scissors****')"
   ]
  },
  {
   "cell_type": "code",
   "execution_count": 7,
   "metadata": {},
   "outputs": [
    {
     "name": "stdout",
     "output_type": "stream",
     "text": [
      "Please enter your choice : rock\n",
      "Please enter your choice : Rock\n",
      "Seems something went wrong !!\n"
     ]
    }
   ],
   "source": [
    "player_1=input(\"Please enter your choice : \")\n",
    "player_2=input(\"Please enter your choice : \")\n",
    "\n",
    "if player_1 =='rock' and player_2=='paper':\n",
    "    print(\"Player 2 WINS !!!\")\n",
    "elif player_1 =='paper' and player_2=='rock':\n",
    "    print(\"Player 1 WINS !!!\")\n",
    "elif player_1 =='paper' and player_2=='scissors':\n",
    "    print(\"Player 2 WINS !!!\")\n",
    "elif player_1 =='scissors' and player_2=='paper':\n",
    "    print(\"Player 1 WINS !!!\")\n",
    "elif player_1 =='rock' and player_2=='scissors':\n",
    "    print(\"Player 1 WINS !!!\")\n",
    "elif player_1 =='scissors' and player_2=='rock':\n",
    "    print(\"Player 2 WINS !!!\")\n",
    "elif player_1==player_2:\n",
    "    print(\"Same choice by both players ..Please play again!! \")\n",
    "else:\n",
    "    print(\"Seems something went wrong !!\")\n",
    "    "
   ]
  },
  {
   "cell_type": "markdown",
   "metadata": {},
   "source": [
    "## Refactored Code "
   ]
  },
  {
   "cell_type": "code",
   "execution_count": 12,
   "metadata": {},
   "outputs": [
    {
     "name": "stdout",
     "output_type": "stream",
     "text": [
      "Player 1  enter your choice : ew\n",
      "Player 2 enter your choice : ew\n",
      "Same choice by both players ..Please play again!! \n"
     ]
    }
   ],
   "source": [
    "player_1=input(\"Player 1  enter your choice : \")\n",
    "player_2=input(\"Player 2 enter your choice : \")\n",
    "#ensure this step is executed first to save time on other steps\n",
    "if player_1==player_2:\n",
    "    print(\"Same choice by both players ..Please play again!! \")\n",
    "    \n",
    "elif player_1 =='rock':\n",
    "    if player_2=='paper':\n",
    "        print(\"Player 2 WINS !!!\")\n",
    "    elif player_2=='scissors':\n",
    "        print(\"Player 1 WINS !!!\")\n",
    "        \n",
    "elif player_1 =='paper':\n",
    "    if player_2=='rock':\n",
    "        print(\"Player 1 WINS !!!\")\n",
    "    elif player_2=='scissors':\n",
    "        print(\"Player 2 WINS !!!\")\n",
    "        \n",
    "elif player_1 =='scissors':\n",
    "    if player_2=='paper':\n",
    "        print(\"Player 1 WINS !!!\")\n",
    "    elif player_2=='rock':\n",
    "        print(\"Player 2 WINS !!!\")\n",
    "\n",
    "\n",
    "else:\n",
    "    print(\"Seems something went wrong !!\")\n",
    "    "
   ]
  },
  {
   "cell_type": "markdown",
   "metadata": {},
   "source": [
    "## Another Refactoring  "
   ]
  },
  {
   "cell_type": "code",
   "execution_count": 13,
   "metadata": {},
   "outputs": [
    {
     "name": "stdout",
     "output_type": "stream",
     "text": [
      "Player 1: rock, paper, or scissors rock\n",
      "Player 2: rock, paper, or scissors paper\n",
      "p2 wins\n"
     ]
    }
   ],
   "source": [
    "p1 = input(\"Player 1: rock, paper, or scissors \")\n",
    "p2 = input(\"Player 2: rock, paper, or scissors \")\n",
    " \n",
    "if p1 == p2:\n",
    "    print(\"Draw\")\n",
    "elif p1 == \"rock\" and p2 == \"scissors\":\n",
    "    print(\"p1 wins\")\n",
    "elif p1 == \"paper\" and p2 == \"rock\":\n",
    "    print(\"p1 wins\")\n",
    "elif p1 == \"scissors\" and p2 == \"paper\":\n",
    "    print(\"p1 wins\")\n",
    "else:\n",
    "    print(\"p2 wins\")"
   ]
  },
  {
   "cell_type": "markdown",
   "metadata": {},
   "source": [
    "### ROCK PAPER SCISSORS with COMPUTER"
   ]
  },
  {
   "cell_type": "code",
   "execution_count": 14,
   "metadata": {},
   "outputs": [],
   "source": [
    "#import random  to generate random numbers \n",
    "import random "
   ]
  },
  {
   "cell_type": "code",
   "execution_count": 15,
   "metadata": {},
   "outputs": [
    {
     "data": {
      "text/plain": [
       "10"
      ]
     },
     "execution_count": 15,
     "metadata": {},
     "output_type": "execute_result"
    }
   ],
   "source": [
    "#example\n",
    "random.randint(0,10)"
   ]
  },
  {
   "cell_type": "code",
   "execution_count": 22,
   "metadata": {},
   "outputs": [],
   "source": [
    "comp=random.randint(0,2)"
   ]
  },
  {
   "cell_type": "code",
   "execution_count": 23,
   "metadata": {},
   "outputs": [],
   "source": [
    "if comp==0:\n",
    "    AI='rock'\n",
    "elif comp==1:\n",
    "    AI='paper'\n",
    "else:\n",
    "    AI='scissors'"
   ]
  },
  {
   "cell_type": "code",
   "execution_count": 24,
   "metadata": {},
   "outputs": [
    {
     "name": "stdout",
     "output_type": "stream",
     "text": [
      "paper\n"
     ]
    }
   ],
   "source": [
    "print(AI)"
   ]
  },
  {
   "cell_type": "code",
   "execution_count": 30,
   "metadata": {},
   "outputs": [
    {
     "name": "stdout",
     "output_type": "stream",
     "text": [
      "Player : rock, paper, or scissors paper\n",
      "AI chose : rock\n",
      "player wins\n"
     ]
    }
   ],
   "source": [
    "comp=random.randint(0,2)\n",
    "if comp==0:\n",
    "    AI='rock'\n",
    "elif comp==1:\n",
    "    AI='paper'\n",
    "else:\n",
    "    AI='scissors'\n",
    "\n",
    "player = input(\"Player : rock, paper, or scissors \")\n",
    "print ('AI chose : ' + AI)\n",
    "\n",
    " \n",
    "if AI == player:\n",
    "    print(\"Draw\")\n",
    "elif AI == \"rock\" and player == \"scissors\":\n",
    "    print(\"AI wins\")\n",
    "elif AI == \"paper\" and player == \"rock\":\n",
    "    print(\"AI wins\")\n",
    "elif AI == \"scissors\" and player == \"paper\":\n",
    "    print(\"AI wins\")\n",
    "else:\n",
    "    print(\"player wins\")"
   ]
  },
  {
   "cell_type": "code",
   "execution_count": null,
   "metadata": {},
   "outputs": [],
   "source": []
  }
 ],
 "metadata": {
  "kernelspec": {
   "display_name": "Python 3",
   "language": "python",
   "name": "python3"
  },
  "language_info": {
   "codemirror_mode": {
    "name": "ipython",
    "version": 3
   },
   "file_extension": ".py",
   "mimetype": "text/x-python",
   "name": "python",
   "nbconvert_exporter": "python",
   "pygments_lexer": "ipython3",
   "version": "3.6.3"
  }
 },
 "nbformat": 4,
 "nbformat_minor": 2
}
